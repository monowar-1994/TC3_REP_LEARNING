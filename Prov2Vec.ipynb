{
 "cells": [
  {
   "cell_type": "code",
   "execution_count": 1,
   "metadata": {},
   "outputs": [
    {
     "name": "stdout",
     "output_type": "stream",
     "text": [
      "2.4.1\n",
      "[PhysicalDevice(name='/physical_device:CPU:0', device_type='CPU'), PhysicalDevice(name='/physical_device:GPU:0', device_type='GPU')]\n"
     ]
    }
   ],
   "source": [
    "# Import all the necessary packages\n",
    "import os\n",
    "import numpy as np \n",
    "import tensorflow as tf\n",
    "import json\n",
    "import matplotlib.pyplot as plt \n",
    "import pandas as pd\n",
    "\n",
    "print(tf.__version__)\n",
    "print(tf.config.list_physical_devices())"
   ]
  },
  {
   "cell_type": "code",
   "execution_count": 4,
   "metadata": {},
   "outputs": [],
   "source": [
    "# import regarding database handles\n",
    "import db_classes as orm\n",
    "from sqlalchemy import create_engine\n",
    "from sqlalchemy.orm import sessionmaker"
   ]
  },
  {
   "cell_type": "code",
   "execution_count": 5,
   "metadata": {},
   "outputs": [],
   "source": [
    "import graph_construction as gc\n",
    "import random"
   ]
  },
  {
   "cell_type": "code",
   "execution_count": 6,
   "metadata": {},
   "outputs": [],
   "source": [
    "# File locations for specific files.\n",
    "graph_file_path = '/mnt/8tb/csenrc/representation_learning_codes/graph_file.json'\n",
    "index_file_path = '/mnt/8tb/csenrc/representation_learning_codes/index_file.json'\n",
    "# use the database connection URL if needed.\n",
    "connection_url = 'postgresql+psycopg2://csephase2:csephase@@localhost/darpa_tc3'"
   ]
  },
  {
   "cell_type": "code",
   "execution_count": 7,
   "metadata": {},
   "outputs": [
    {
     "name": "stdout",
     "output_type": "stream",
     "text": [
      "Number of subjects in the graph: 224146\n"
     ]
    }
   ],
   "source": [
    "# Let's load the graph first. \n",
    "\n",
    "provenance_graph = json.load(open(graph_file_path))\n",
    "print(\"Number of subjects in the graph: {}\".format(len(provenance_graph)))"
   ]
  },
  {
   "cell_type": "code",
   "execution_count": 8,
   "metadata": {},
   "outputs": [],
   "source": [
    "# Please note that the graph loading time is obnoxiously large. \n",
    "# Therefore, at this point, please refrain from doing anything that needs loading the graph from file multiple times.\n",
    "\n",
    "max_len = -1\n",
    "min_len = 1000000000000\n",
    "largest_subject_subgraph = -1\n",
    "smallest_subject_subgraph = -1\n",
    "count = 0\n",
    "small_graphs = []\n",
    "\n",
    "for subject in provenance_graph:\n",
    "    if len(provenance_graph[subject]['events']) > max_len:\n",
    "        max_len = len(provenance_graph[subject]['events'])\n",
    "        largest_subject_subgraph = subject\n",
    "    if len(provenance_graph[subject]['events']) < min_len:\n",
    "        min_len = len(provenance_graph[subject]['events'])\n",
    "        smallest_subject_subgraph = subject\n",
    "    if len(provenance_graph[subject]['events']) < 32:\n",
    "        count += 1\n",
    "        small_graphs.append(subject)  \n",
    "        "
   ]
  },
  {
   "cell_type": "code",
   "execution_count": 9,
   "metadata": {},
   "outputs": [
    {
     "name": "stdout",
     "output_type": "stream",
     "text": [
      "Currently the largest subgraph is rooted at subject 74188 has the size of: 3049408\n",
      "Currently the smallest subgraph is rooted at subject 4 has the size of: 1\n",
      "Currently number of small subgraph is 124874\n"
     ]
    }
   ],
   "source": [
    "print(\"Currently the largest subgraph is rooted at subject {} has the size of: {}\".format(largest_subject_subgraph, max_len))\n",
    "print(\"Currently the smallest subgraph is rooted at subject {} has the size of: {}\".format(smallest_subject_subgraph, min_len))\n",
    "print(\"Currently number of small subgraph is {}\".format(count))"
   ]
  },
  {
   "cell_type": "code",
   "execution_count": 10,
   "metadata": {},
   "outputs": [],
   "source": [
    "# Wow that is a lot of events for a node. \n",
    "# Makes me wonder what a histogram for this data will look like. \n",
    "# In other words, what ate the node densities in the graoh. \n",
    "# Let's try it out. \n",
    "\n",
    "lengths = [] # Simple list will do, we are not tracking, we just want to see the distribution. \n",
    "\n",
    "for subject in provenance_graph:\n",
    "    lengths.append(len(provenance_graph[subject]['events']))"
   ]
  },
  {
   "cell_type": "code",
   "execution_count": 11,
   "metadata": {},
   "outputs": [
    {
     "data": {
      "image/png": "[encoded data removed]",
      "text/plain": [
       "<Figure size 1000x500 with 1 Axes>"
      ]
     },
     "metadata": {},
     "output_type": "display_data"
    }
   ],
   "source": [
    "# Now, let's plot the histogram. \n",
    "n_bins = 25\n",
    "\n",
    "plt.figure(figsize=(10,5))\n",
    "# We can set the number of bins with the *bins* keyword argument.\n",
    "#plt.scatter(np.arange(len(lengths)),np.log(lengths), marker='.')\n",
    "plt.hist(np.log(lengths), bins=n_bins)\n",
    "plt.grid(True)\n",
    "plt.show()"
   ]
  },
  {
   "cell_type": "markdown",
   "metadata": {},
   "source": [
    "# Okay, that does not look great at all. \n",
    "A lot of nodes have more than 10^(3 to 6) number of events. Which means the timestamp difference varies wildly and plain normalization may not be an option anymore. Therefore, we resort to sinusoidal coding like the original BERT paper. \n",
    "# So, the question becomes how do we generate paths now. \n",
    "Well, here is another interesting situation. We can subsample the stream of events to generate the paths. But again, the question is now how do we encode the subject information in the path. "
   ]
  },
  {
   "cell_type": "code",
   "execution_count": 12,
   "metadata": {},
   "outputs": [
    {
     "name": "stdout",
     "output_type": "stream",
     "text": [
      "Max time delta: 270997933817167, max_sub_origin: 1522759935112293459, max_event_stamp = 1523030933046110626, max_sub = 10623\n",
      "Min time delta: -10001641, min_sub_origin: 1523218713175536589, min_event_stamp = 1523218713165534948, min_sub = 121235\n",
      "Negative count: 2819176, pct: 6.827477012164842\n"
     ]
    }
   ],
   "source": [
    "max_time_delta = 0\n",
    "max_sub_origin =  -1\n",
    "max_event_stamp = -1\n",
    "max_sub = -1\n",
    "\n",
    "min_time_delta = 100000000000000\n",
    "min_sub_origin =  -1\n",
    "min_event_stamp = -1\n",
    "min_sub = -1\n",
    "negative_count = 0\n",
    "total_count = 0\n",
    "\n",
    "for subject in provenance_graph:\n",
    "    subject_timestamp = provenance_graph[subject]['sub'][2]\n",
    "    event_list = provenance_graph[subject]['events']\n",
    "    total_count += len(event_list)\n",
    "    if subject_timestamp != 0:\n",
    "        for event in event_list:\n",
    "            if event[0][3] != 0:\n",
    "                time_delta = event[0][3] - subject_timestamp\n",
    "\n",
    "                if time_delta<=0:\n",
    "                    negative_count +=1 \n",
    "            \n",
    "                if time_delta > max_time_delta:    \n",
    "                    max_time_delta = time_delta\n",
    "                    max_sub_origin = subject_timestamp\n",
    "                    max_event_stamp = event[0][3]\n",
    "                    max_sub = subject\n",
    "\n",
    "                if time_delta < min_time_delta:\n",
    "                    min_time_delta = time_delta\n",
    "                    min_sub_origin = subject_timestamp\n",
    "                    min_event_stamp = event[0][3]\n",
    "                    min_sub = subject\n",
    "        \n",
    "print(\"Max time delta: {}, max_sub_origin: {}, max_event_stamp = {}, max_sub = {}\".format(max_time_delta, max_sub_origin, max_event_stamp, max_sub))\n",
    "print(\"Min time delta: {}, min_sub_origin: {}, min_event_stamp = {}, min_sub = {}\".format(min_time_delta, min_sub_origin, min_event_stamp, min_sub))\n",
    "print(\"Negative count: {}, pct: {}\".format(negative_count, (negative_count/total_count)*100))\n"
   ]
  },
  {
   "cell_type": "markdown",
   "metadata": {},
   "source": [
    "### Looks like 6.82% events are have negative time delta which is not possible for us to use. In this case, the ususal approach is to drop the data points. "
   ]
  },
  {
   "cell_type": "code",
   "execution_count": 275,
   "metadata": {},
   "outputs": [
    {
     "name": "stdout",
     "output_type": "stream",
     "text": [
      "Number of events kept: 10796008, number of events removed for negative time delta: 2819176, percentage: 20.706117522906776\n"
     ]
    }
   ],
   "source": [
    "cleaned_provenance_graph = dict() # Pruned graph object\n",
    "remove_count = 0 # Number of events that have been removed from the graph\n",
    "keep_count = 0 # Number of events that have been retained from the graph\n",
    "\n",
    "for subject in provenance_graph:\n",
    "    \n",
    "    subject_timestamp = provenance_graph[subject]['sub'][2]\n",
    "    event_list = provenance_graph[subject]['events'] \n",
    "    temp_event_list = []\n",
    "    condition = lambda x: [0,0] if ( x is None) else x\n",
    "    for event in event_list:\n",
    "        if event[0][3] != 0:\n",
    "            time_delta = event[0][3] - subject_timestamp\n",
    "            if time_delta>0:\n",
    "                temp_event_list.append(event)\n",
    "            else:\n",
    "                remove_count +=1\n",
    "        else:\n",
    "            remove_count+=1 \n",
    "\n",
    "    tuple_event_list = [tuple(condition(x[0])+condition(x[1])+condition(x[2])) for x in temp_event_list]\n",
    "    tuple_event_list = set(tuple_event_list)\n",
    "    tuple_event_list = [ [[x[0],x[1],x[2],x[3],x[4]], [x[5],x[6]], [x[7], x[8]]]  for x in tuple_event_list ]\n",
    "    \n",
    "    if len(tuple_event_list)>0:\n",
    "        \n",
    "        cleaned_provenance_graph[subject] = dict()\n",
    "        cleaned_provenance_graph[subject]['sub'] = provenance_graph[subject]['sub'] # Saving the subject identity.\n",
    "        cleaned_provenance_graph[subject]['events'] = tuple_event_list\n",
    "        keep_count += len(tuple_event_list)"
   ]
  },
  {
   "cell_type": "code",
   "execution_count": 281,
   "metadata": {},
   "outputs": [
    {
     "name": "stdout",
     "output_type": "stream",
     "text": [
      "Number of events kept: 10796008, number of events removed for negative time delta: 2819176, reduced graph size percentage: 26.108281332242022\n"
     ]
    }
   ],
   "source": [
    "print(\"Number of events kept: {}, number of events removed for negative time delta: {}, reduced graph size percentage: {}\".format(keep_count, remove_count, ((100*keep_count)/41350895)))"
   ]
  },
  {
   "cell_type": "code",
   "execution_count": 279,
   "metadata": {},
   "outputs": [
    {
     "name": "stdout",
     "output_type": "stream",
     "text": [
      "0.9594416139480517\n"
     ]
    }
   ],
   "source": [
    "for subject in cleaned_provenance_graph:\n",
    "    if len(cleaned_provenance_graph[subject]['events']) == 0:\n",
    "        cleaned_provenance_graph.pop(subject,None)\n",
    "\n",
    "print(len(cleaned_provenance_graph)/len(provenance_graph))"
   ]
  },
  {
   "cell_type": "code",
   "execution_count": 280,
   "metadata": {},
   "outputs": [
    {
     "name": "stdout",
     "output_type": "stream",
     "text": [
      "Max time delta: 270997933817167, max_sub_origin: 1522759935112293459, max_event_stamp = 1523030933046110626, max_sub = 10623\n",
      "Min time delta: 1472570, min_sub_origin: 1523556159254718787, min_event_stamp = 1523556159256191357, min_sub = 200097\n",
      "Negative count: 0, pct: 0.0\n"
     ]
    }
   ],
   "source": [
    "# Running the same code block on the pruned provenance graph\n",
    "max_time_delta = 0\n",
    "max_sub_origin =  -1\n",
    "max_event_stamp = -1\n",
    "max_sub = -1\n",
    "\n",
    "min_time_delta = 100000000000000\n",
    "min_sub_origin =  -1\n",
    "min_event_stamp = -1\n",
    "min_sub = -1\n",
    "negative_count = 0\n",
    "total_count = 0\n",
    "\n",
    "for subject in cleaned_provenance_graph:\n",
    "    subject_timestamp = cleaned_provenance_graph[subject]['sub'][2]\n",
    "    event_list = cleaned_provenance_graph[subject]['events']\n",
    "    total_count += len(event_list)\n",
    "    if subject_timestamp != 0:\n",
    "        for event in event_list:\n",
    "            if event[0][3] != 0:\n",
    "                time_delta = event[0][3] - subject_timestamp\n",
    "\n",
    "                if time_delta<=0:\n",
    "                    negative_count +=1 \n",
    "            \n",
    "                if time_delta > max_time_delta:    \n",
    "                    max_time_delta = time_delta\n",
    "                    max_sub_origin = subject_timestamp\n",
    "                    max_event_stamp = event[0][3]\n",
    "                    max_sub = subject\n",
    "\n",
    "                if time_delta < min_time_delta:\n",
    "                    min_time_delta = time_delta\n",
    "                    min_sub_origin = subject_timestamp\n",
    "                    min_event_stamp = event[0][3]\n",
    "                    min_sub = subject\n",
    "        \n",
    "print(\"Max time delta: {}, max_sub_origin: {}, max_event_stamp = {}, max_sub = {}\".format(max_time_delta, max_sub_origin, max_event_stamp, max_sub))\n",
    "print(\"Min time delta: {}, min_sub_origin: {}, min_event_stamp = {}, min_sub = {}\".format(min_time_delta, min_sub_origin, min_event_stamp, min_sub))\n",
    "print(\"Negative count: {}, pct: {}\".format(negative_count, (negative_count/total_count)*100))\n"
   ]
  },
  {
   "cell_type": "code",
   "execution_count": 282,
   "metadata": {},
   "outputs": [
    {
     "name": "stdout",
     "output_type": "stream",
     "text": [
      "5.796340601824141e-15\n",
      "1.0\n"
     ]
    }
   ],
   "source": [
    "MAX_TIME_DELTA = 270997933817167\n",
    "NUMERATOR = np.pi * 0.5 * (1/MAX_TIME_DELTA)\n",
    "print(NUMERATOR)\n",
    "print(np.sin(NUMERATOR*MAX_TIME_DELTA))"
   ]
  },
  {
   "cell_type": "markdown",
   "metadata": {},
   "source": [
    "# Encoding of a sequence.\n",
    "The following function handles sampling from teh graph and encoding the sequence"
   ]
  },
  {
   "cell_type": "code",
   "execution_count": 283,
   "metadata": {},
   "outputs": [],
   "source": [
    "MAX_SUB_ID = 224629\n",
    "def get_random_sequence(subject_id, encoding = None, sequence_size = 31 , imaging = False):\n",
    "    \n",
    "    subject_start_time_stamp = cleaned_provenance_graph[subject_id]['sub'][2]\n",
    "    events = cleaned_provenance_graph[subject_id]['events']\n",
    "    sampled_events = None\n",
    "    \n",
    "    if len(events)>sequence_size:\n",
    "        sampled_events = random.sample(events, k=sequence_size)\n",
    "    else:\n",
    "        sampled_events = events\n",
    "\n",
    "    sampled_events = sorted(sampled_events, key=lambda x:x[0][3])\n",
    "\n",
    "    result_array = None\n",
    "    index = -1\n",
    "    \n",
    "    if imaging:\n",
    "        result_array = np.zeros((sequence_size*8)+8)\n",
    "        index = 8\n",
    "    else:\n",
    "        result_array = np.zeros((sequence_size*8)+2)\n",
    "        index = 2\n",
    "    \n",
    "    for event in sampled_events:\n",
    "        temp = np.zeros(8)\n",
    "\n",
    "        temp[0] = event[0][0] # Normalized event type\n",
    "        temp[1] = event[0][1] # Normalized predicate object 1 type\n",
    "        temp[2] = event[0][2] # Normalized predicate object 2 type\n",
    "        temp[3] = event[0][4] # Normalized event name\n",
    "\n",
    "        if event[1] is not None:\n",
    "            temp[4] = event[1][0] # Details of predicate object 1 if available\n",
    "            temp[5] = event[1][1] \n",
    "        if event[2] is not None:\n",
    "            temp[6] = event[2][0] # Details of predicate object 2 if available\n",
    "            temp[7] = event[2][1]\n",
    "        \n",
    "        \n",
    "        time_delta = event[0][3] - subject_start_time_stamp \n",
    "\n",
    "        if encoding == 'sine':\n",
    "            result_array[index:index+8] = temp * np.sin(NUMERATOR * time_delta)\n",
    "        elif encoding == 'cosine':\n",
    "            result_array[index:index+8] = temp * np.cos(NUMERATOR * time_delta)\n",
    "        elif encoding =='linear':\n",
    "            result_array[index:index+8] = temp * (time_delta/MAX_TIME_DELTA)\n",
    "        elif encoding is None:\n",
    "            result_array[index:index+8] = temp\n",
    "        \n",
    "        index+=8\n",
    "\n",
    "    result_array[0] = cleaned_provenance_graph[subject_id]['sub'][0]\n",
    "    result_array[1] = cleaned_provenance_graph[subject_id]['sub'][1]\n",
    "    if imaging:\n",
    "        result_array[2] = int(subject_id)/(MAX_SUB_ID+1)\n",
    "    return result_array"
   ]
  },
  {
   "cell_type": "code",
   "execution_count": 284,
   "metadata": {},
   "outputs": [
    {
     "data": {
      "text/plain": [
       "array([ 0.25      ,  0.        ,  0.3305213 ,  0.        ,  0.        ,\n",
       "        0.        ,  0.        ,  0.        ,  0.64      ,  0.41666667,\n",
       "        0.        ,  0.33333333,  0.5       , -1.        ,  0.        ,\n",
       "        0.        ,  0.74      ,  0.41666667,  0.        ,  0.26315789,\n",
       "        1.        ,  0.        ,  0.        ,  0.        ,  0.64      ,\n",
       "        0.41666667,  0.        ,  0.33333333,  0.5       , -1.        ,\n",
       "        0.        ,  0.        ,  0.64      ,  0.41666667,  0.        ,\n",
       "        0.33333333,  0.5       , -1.        ,  0.        ,  0.        ,\n",
       "        0.74      ,  0.41666667,  0.        ,  0.26315789,  1.        ,\n",
       "        0.        ,  0.        ,  0.        ,  0.74      ,  0.41666667,\n",
       "        0.        ,  0.26315789,  1.        ,  0.        ,  0.        ,\n",
       "        0.        ,  0.74      ,  0.41666667,  0.        ,  0.26315789,\n",
       "        1.        ,  0.        ,  0.        ,  0.        ,  0.74      ,\n",
       "        0.41666667,  0.        ,  0.26315789,  1.        ,  0.        ,\n",
       "        0.        ,  0.        ,  0.74      ,  0.41666667,  0.        ,\n",
       "        0.26315789,  1.        ,  0.        ,  0.        ,  0.        ,\n",
       "        0.74      ,  0.41666667,  0.        ,  0.26315789,  1.        ,\n",
       "        0.        ,  0.        ,  0.        ,  0.74      ,  0.41666667,\n",
       "        0.        ,  0.26315789,  1.        ,  0.        ,  0.        ,\n",
       "        0.        ,  0.64      ,  0.41666667,  0.        ,  0.33333333,\n",
       "        0.5       , -1.        ,  0.        ,  0.        ,  0.74      ,\n",
       "        0.41666667,  0.        ,  0.26315789,  1.        ,  0.        ,\n",
       "        0.        ,  0.        ,  0.64      ,  0.41666667,  0.        ,\n",
       "        0.33333333,  0.5       , -1.        ,  0.        ,  0.        ,\n",
       "        0.74      ,  0.41666667,  0.        ,  0.26315789,  1.        ,\n",
       "        0.        ,  0.        ,  0.        ,  0.64      ,  0.41666667,\n",
       "        0.        ,  0.33333333,  0.5       , -1.        ,  0.        ,\n",
       "        0.        ,  0.74      ,  0.41666667,  0.        ,  0.26315789,\n",
       "        1.        ,  0.        ,  0.        ,  0.        ,  0.74      ,\n",
       "        0.41666667,  0.        ,  0.26315789,  1.        ,  0.        ,\n",
       "        0.        ,  0.        ,  0.74      ,  0.41666667,  0.        ,\n",
       "        0.26315789,  1.        ,  0.        ,  0.        ,  0.        ,\n",
       "        0.74      ,  0.41666667,  0.        ,  0.26315789,  1.        ,\n",
       "        0.        ,  0.        ,  0.        ,  0.74      ,  0.41666667,\n",
       "        0.        ,  0.26315789,  1.        ,  0.        ,  0.        ,\n",
       "        0.        ,  0.74      ,  0.41666667,  0.        ,  0.26315789,\n",
       "        1.        ,  0.        ,  0.        ,  0.        ,  0.64      ,\n",
       "        0.41666667,  0.        ,  0.33333333,  0.5       , -1.        ,\n",
       "        0.        ,  0.        ,  0.74      ,  0.41666667,  0.        ,\n",
       "        0.26315789,  1.        ,  0.        ,  0.        ,  0.        ,\n",
       "        0.74      ,  0.41666667,  0.        ,  0.26315789,  1.        ,\n",
       "        0.        ,  0.        ,  0.        ,  0.64      ,  0.41666667,\n",
       "        0.        ,  0.33333333,  0.5       , -1.        ,  0.        ,\n",
       "        0.        ,  0.64      ,  0.41666667,  0.        ,  0.33333333,\n",
       "        0.5       , -1.        ,  0.        ,  0.        ,  0.74      ,\n",
       "        0.41666667,  0.        ,  0.26315789,  1.        ,  0.        ,\n",
       "        0.        ,  0.        ,  0.74      ,  0.41666667,  0.        ,\n",
       "        0.26315789,  1.        ,  0.        ,  0.        ,  0.        ,\n",
       "        0.64      ,  0.41666667,  0.        ,  0.33333333,  0.5       ,\n",
       "       -1.        ,  0.        ,  0.        ,  0.74      ,  0.41666667,\n",
       "        0.        ,  0.26315789,  1.        ,  0.        ,  0.        ,\n",
       "        0.        ])"
      ]
     },
     "execution_count": 284,
     "metadata": {},
     "output_type": "execute_result"
    }
   ],
   "source": [
    "get_random_sequence('74245', encoding=None, imaging=True)"
   ]
  },
  {
   "cell_type": "code",
   "execution_count": 285,
   "metadata": {},
   "outputs": [],
   "source": [
    "# import traceback\n",
    "\n",
    "# t_condition = lambda x: [0,0] if ( x is None) else x\n",
    "# try:\n",
    "#     uniques = [ t_condition(x[0]) +t_condition(x[1]) +t_condition(x[2]) for x in cleaned_provenance_graph['74189']['events'] ]\n",
    "#     uniques = [tuple(x) for x in uniques]\n",
    "#     uniques = set(uniques)\n",
    "#     uniques = [ [[x[0],x[1],x[2],x[3],x[4]], [x[5],x[6]], [x[7], x[8]]]  for x in uniques]\n",
    "# except:\n",
    "#     traceback.print_exc()"
   ]
  },
  {
   "cell_type": "code",
   "execution_count": 251,
   "metadata": {},
   "outputs": [
    {
     "data": {
      "text/plain": [
       "155"
      ]
     },
     "execution_count": 251,
     "metadata": {},
     "output_type": "execute_result"
    }
   ],
   "source": [
    "len(cleaned_provenance_graph['74189']['events'])"
   ]
  },
  {
   "cell_type": "code",
   "execution_count": 286,
   "metadata": {},
   "outputs": [
    {
     "name": "stdout",
     "output_type": "stream",
     "text": [
      "215055\n"
     ]
    }
   ],
   "source": [
    "subject_list = list(cleaned_provenance_graph.keys())\n",
    "print(len(subject_list))\n",
    "random.shuffle(subject_list)"
   ]
  },
  {
   "cell_type": "markdown",
   "metadata": {},
   "source": [
    "# Generators"
   ]
  },
  {
   "cell_type": "code",
   "execution_count": 146,
   "metadata": {},
   "outputs": [],
   "source": [
    "def generator( datasource , encoding_scheme = None, batch_size = 32, sequence_size = 31):\n",
    "    while True:\n",
    "        x = np.zeros((batch_size, (sequence_size*8)+2))\n",
    "        y = np.zeros((batch_size, (sequence_size*8)+2))\n",
    "\n",
    "        subjects = random.sample(datasource, k=batch_size)\n",
    "\n",
    "        for i in range(batch_size):\n",
    "            x[i] = get_random_sequence(subjects[i], encoding=encoding_scheme ,sequence_size= sequence_size)\n",
    "            y[i] = x[i]\n",
    "\n",
    "        yield x,y"
   ]
  },
  {
   "cell_type": "code",
   "execution_count": 287,
   "metadata": {},
   "outputs": [],
   "source": [
    "def image_generator(datasource , encoding_scheme = None, batch_size = 32, sequence_size = 31):\n",
    "    while True:\n",
    "        x = np.zeros((batch_size, (sequence_size*8)+8))\n",
    "        subjects = random.sample(datasource, k=batch_size)\n",
    "        for i in range(batch_size):\n",
    "            x[i] = get_random_sequence(subjects[i], encoding=encoding_scheme ,sequence_size= sequence_size, imaging=True)\n",
    "\n",
    "        target = np.reshape(x, (batch_size, (sequence_size+1),8))\n",
    "        target[:,0,2] /=65535\n",
    "\n",
    "        yield target, target "
   ]
  },
  {
   "cell_type": "code",
   "execution_count": 288,
   "metadata": {},
   "outputs": [],
   "source": [
    "def skip_pixel_image_generator(datasource , encoding_scheme = None, batch_size = 32, sequence_size = 31, skip_pct = 0.2):\n",
    "    while True:\n",
    "        x = np.zeros((batch_size, (sequence_size*8)+8))\n",
    "        subjects = random.sample(datasource, k=batch_size)\n",
    "        for i in range(batch_size):\n",
    "            x[i] = get_random_sequence(subjects[i], encoding=encoding_scheme ,sequence_size= sequence_size, imaging=True)\n",
    "\n",
    "        samples = np.reshape(x, (batch_size, (sequence_size+1),8))\n",
    "        samples[:,0,2] /=65535\n",
    "        target = np.copy(samples)\n",
    "\n",
    "        number_of_skip = int(batch_size*skip_pct)\n",
    "        skip_indices = random.sample(range(1,batch_size,1), k=number_of_skip)\n",
    "        for index in skip_indices:\n",
    "            samples[index] = np.zeros(((sequence_size+1),8))\n",
    "\n",
    "        yield samples, target "
   ]
  },
  {
   "cell_type": "markdown",
   "metadata": {},
   "source": [
    "# Model 1"
   ]
  },
  {
   "cell_type": "code",
   "execution_count": 337,
   "metadata": {},
   "outputs": [],
   "source": [
    "def get_autoencoder(input_length):\n",
    "    input_layer = tf.keras.Input(shape=(input_length+1, 8, 1 ))\n",
    "    \n",
    "    feature_extraction = tf.keras.layers.Conv2D(128, (1,8), activation='relu')(input_layer)\n",
    "    flattening = tf.keras.layers.Flatten()(feature_extraction)\n",
    "    \n",
    "    layer_0_down = tf.keras.layers.Dense(512, activation ='relu')(flattening)\n",
    "    dropout0 = tf.keras.layers.Dropout(rate=0.25)(layer_0_down)\n",
    "    \n",
    "    layer_1_down = tf.keras.layers.Dense(256, activation ='relu')(dropout0)\n",
    "    dropout1 = tf.keras.layers.Dropout(rate=0.25)(layer_1_down)\n",
    "    \n",
    "    layer_2_down =  tf.keras.layers.Dense(128, activation ='relu')(dropout1)\n",
    "    \n",
    "    # layer_3_down = tf.keras.layers.Dense(64, activation ='relu')(layer_2_down)\n",
    "    \n",
    "    bottleneck_layer = tf.keras.layers.Dense(128, activation ='relu')(layer_2_down)\n",
    "    \n",
    "    # layer_1_up = tf.keras.layers.Dense(64, activation ='relu')(bottleneck_layer)\n",
    "    \n",
    "    layer_2_up = tf.keras.layers.Dense(128, activation ='relu')(bottleneck_layer) \n",
    "    \n",
    "    layer_3_up = tf.keras.layers.Dense(256, activation ='relu')(layer_2_up)\n",
    "    dropout2 = tf.keras.layers.Dropout(rate=0.25)(layer_3_up)\n",
    "    \n",
    "    layer_4_up = tf.keras.layers.Dense(512, activation ='relu')(dropout2)\n",
    "    dropout3 = tf.keras.layers.Dropout(rate=0.25)(layer_4_up)\n",
    "\n",
    "    layer_5_up = tf.keras.layers.Dense(3072, activation ='relu')(dropout3)\n",
    "    reshape = tf.keras.layers.Reshape((24,1,128))(layer_5_up)\n",
    "    \n",
    "    #output_layer = tf.keras.layers.Dense(input_length, activation ='relu')(reshape)\n",
    "    output_layer = tf.keras.layers.Conv2DTranspose(1, (1,8), strides=(1,1), activation ='relu')(reshape)\n",
    "\n",
    "    autoencoder_model = tf.keras.Model(input_layer, output_layer)\n",
    "\n",
    "    return autoencoder_model"
   ]
  },
  {
   "cell_type": "code",
   "execution_count": 357,
   "metadata": {},
   "outputs": [],
   "source": [
    "tf.keras.backend.clear_session()"
   ]
  },
  {
   "cell_type": "code",
   "execution_count": 358,
   "metadata": {},
   "outputs": [
    {
     "name": "stdout",
     "output_type": "stream",
     "text": [
      "Model: \"model\"\n",
      "_________________________________________________________________\n",
      "Layer (type)                 Output Shape              Param #   \n",
      "=================================================================\n",
      "input_1 (InputLayer)         [(None, 24, 8, 1)]        0         \n",
      "_________________________________________________________________\n",
      "conv2d (Conv2D)              (None, 24, 1, 128)        1152      \n",
      "_________________________________________________________________\n",
      "flatten (Flatten)            (None, 3072)              0         \n",
      "_________________________________________________________________\n",
      "dense (Dense)                (None, 512)               1573376   \n",
      "_________________________________________________________________\n",
      "dropout (Dropout)            (None, 512)               0         \n",
      "_________________________________________________________________\n",
      "dense_1 (Dense)              (None, 256)               131328    \n",
      "_________________________________________________________________\n",
      "dropout_1 (Dropout)          (None, 256)               0         \n",
      "_________________________________________________________________\n",
      "dense_2 (Dense)              (None, 128)               32896     \n",
      "_________________________________________________________________\n",
      "dense_3 (Dense)              (None, 128)               16512     \n",
      "_________________________________________________________________\n",
      "dense_4 (Dense)              (None, 128)               16512     \n",
      "_________________________________________________________________\n",
      "dense_5 (Dense)              (None, 256)               33024     \n",
      "_________________________________________________________________\n",
      "dropout_2 (Dropout)          (None, 256)               0         \n",
      "_________________________________________________________________\n",
      "dense_6 (Dense)              (None, 512)               131584    \n",
      "_________________________________________________________________\n",
      "dropout_3 (Dropout)          (None, 512)               0         \n",
      "_________________________________________________________________\n",
      "dense_7 (Dense)              (None, 3072)              1575936   \n",
      "_________________________________________________________________\n",
      "reshape (Reshape)            (None, 24, 1, 128)        0         \n",
      "_________________________________________________________________\n",
      "conv2d_transpose (Conv2DTran (None, 24, 8, 1)          1025      \n",
      "=================================================================\n",
      "Total params: 3,513,345\n",
      "Trainable params: 3,513,345\n",
      "Non-trainable params: 0\n",
      "_________________________________________________________________\n"
     ]
    }
   ],
   "source": [
    "seq_length = 23\n",
    "autoencoder = get_autoencoder(seq_length)\n",
    "autoencoder.summary()"
   ]
  },
  {
   "cell_type": "code",
   "execution_count": 359,
   "metadata": {},
   "outputs": [],
   "source": [
    "total_dataset_length = 224146\n",
    "\n",
    "validation_length = 60000\n",
    "training_length = total_dataset_length-validation_length\n",
    "\n",
    "\n",
    "training_data = subject_list[:training_length]\n",
    "validation_data = subject_list[training_length:]\n",
    "\n",
    "train_seq_generator = image_generator(training_data, encoding_scheme= 'sine', batch_size=128, sequence_size=23)\n",
    "valid_seq_generator = image_generator(validation_data, encoding_scheme='sine', batch_size=128, sequence_size=23)"
   ]
  },
  {
   "cell_type": "code",
   "execution_count": 360,
   "metadata": {},
   "outputs": [],
   "source": [
    "autoencoder.compile(loss=tf.keras.losses.MSE , optimizer=tf.keras.optimizers.Adam(learning_rate=5e-04))"
   ]
  },
  {
   "cell_type": "code",
   "execution_count": 361,
   "metadata": {},
   "outputs": [
    {
     "name": "stderr",
     "output_type": "stream",
     "text": [
      "/home/monowar/anaconda3/envs/envphase2/lib/python3.9/site-packages/tensorflow/python/keras/engine/training.py:1844: UserWarning: `Model.fit_generator` is deprecated and will be removed in a future version. Please use `Model.fit`, which supports generators.\n",
      "  warnings.warn('`Model.fit_generator` is deprecated and '\n"
     ]
    },
    {
     "name": "stdout",
     "output_type": "stream",
     "text": [
      "Epoch 1/10\n",
      "1000/1000 [==============================] - 26s 26ms/step - loss: 1449.7998 - val_loss: 205.4621\n",
      "Epoch 2/10\n",
      "1000/1000 [==============================] - 25s 25ms/step - loss: 156.9663 - val_loss: 135.9453\n",
      "Epoch 3/10\n",
      "1000/1000 [==============================] - 26s 26ms/step - loss: 162.7905 - val_loss: 148.7082\n",
      "Epoch 4/10\n",
      "1000/1000 [==============================] - 26s 26ms/step - loss: 554.9325 - val_loss: 59.2964\n",
      "Epoch 5/10\n",
      "1000/1000 [==============================] - 26s 26ms/step - loss: 77.1823 - val_loss: 554.8632\n",
      "Epoch 6/10\n",
      "1000/1000 [==============================] - 27s 27ms/step - loss: 78.1240 - val_loss: 824.1027\n",
      "Epoch 7/10\n",
      "1000/1000 [==============================] - 26s 26ms/step - loss: 228.8014 - val_loss: 101.4425\n",
      "Epoch 8/10\n",
      "1000/1000 [==============================] - 27s 27ms/step - loss: 312.2745 - val_loss: 44.1707\n",
      "Epoch 9/10\n",
      "1000/1000 [==============================] - 26s 26ms/step - loss: 130.4138 - val_loss: 1626.3037\n",
      "Epoch 10/10\n",
      "1000/1000 [==============================] - 26s 26ms/step - loss: 401.5026 - val_loss: 27.2191\n"
     ]
    }
   ],
   "source": [
    "history = autoencoder.fit_generator(train_seq_generator, steps_per_epoch=1000, epochs = 10, validation_data = valid_seq_generator, validation_steps=250)"
   ]
  },
  {
   "cell_type": "code",
   "execution_count": 345,
   "metadata": {},
   "outputs": [],
   "source": [
    "training_loss = history.history['loss'][:]\n",
    "val_los = history.history['val_loss'][:]"
   ]
  },
  {
   "cell_type": "code",
   "execution_count": 346,
   "metadata": {},
   "outputs": [
    {
     "data": {
      "image/png": "[encoded data removed]",
      "text/plain": [
       "<Figure size 800x250 with 1 Axes>"
      ]
     },
     "metadata": {},
     "output_type": "display_data"
    }
   ],
   "source": [
    "plt.figure(figsize=(8,2.5))\n",
    "plt.grid()\n",
    "plt.plot((training_loss))\n",
    "# plt.plot(np.log(val_los))\n",
    "\n",
    "plt.show()"
   ]
  },
  {
   "cell_type": "markdown",
   "metadata": {},
   "source": [
    "# Model 2"
   ]
  },
  {
   "cell_type": "code",
   "execution_count": 347,
   "metadata": {},
   "outputs": [],
   "source": [
    "def get_conv_autoencoder(sequence_size):\n",
    "    # Encoder\n",
    "    input_layer = tf.keras.layers.Input(shape=((sequence_size+1),8,1)) \n",
    "    feature_extractor = tf.keras.layers.Conv2D(256, (1,8), activation='relu')(input_layer) # out: (seq_size, 1 , 256) \n",
    "    pooling1 = tf.keras.layers.MaxPooling2D((2,1), padding= 'same')(feature_extractor) # out : (seq_size/2, 1, 256)\n",
    "    conv_0_down = tf.keras.layers.Conv2D(128, (4,1), activation='relu')(pooling1) # out: (seq_size/2 - 3, 1 , 128)\n",
    "    pooling2 = tf.keras.layers.MaxPooling2D((2,1), padding= 'same')(conv_0_down) # out: ((seq_size/2 - 3)/2, 1 , 128)\n",
    "    #Decoder\n",
    "    conv_0_up = tf.keras.layers.Conv2DTranspose(128, (4,1), strides=(2,1), activation='relu', output_padding=(1,0))(pooling2)\n",
    "    conv_1_up = tf.keras.layers.Conv2DTranspose(256, (2,8), strides=(2,1), activation='relu', output_padding=(0,0))(conv_0_up)\n",
    "    output_layer = tf.keras.layers.Conv2D(1, (1,1), activation = 'relu')(conv_1_up)\n",
    "\n",
    "    conv_autoencoder = tf.keras.Model(input_layer, output_layer)\n",
    "\n",
    "    return conv_autoencoder"
   ]
  },
  {
   "cell_type": "code",
   "execution_count": 348,
   "metadata": {},
   "outputs": [],
   "source": [
    "def get_conv_autoencoder_no_pooling(sequence_size):\n",
    "    input_layer = tf.keras.layers.Input(shape=((sequence_size+1),8,1)) \n",
    "    feature_extractor = tf.keras.layers.Conv2D(256, (1,8), activation='relu')(input_layer) # out: (seq_size, 1 , 256)\n",
    "    \n",
    "    down_sample1 = tf.keras.layers.Conv2D(64, (11,1), activation= 'relu')(feature_extractor)\n",
    "    down_sample2 = tf.keras.layers.Conv2D(32, (11,1), activation= 'relu')(down_sample1)\n",
    "    \n",
    "    bottleneck = tf.keras.layers.Conv2D(16, (21,1), activation='relu')(down_sample2)\n",
    "\n",
    "    up_sample1 = tf.keras.layers.Conv2DTranspose(32, (21,1), strides=(1,1), activation='relu', output_padding=(0,0))(bottleneck)\n",
    "    up_sample2 = tf.keras.layers.Conv2DTranspose(64, (11,1), strides=(1,1), activation='relu', output_padding=(0,0))(up_sample1)\n",
    "    up_sample3 = tf.keras.layers.Conv2DTranspose(256, (11,8), strides=(1,1), activation='relu', output_padding=(0,0))(up_sample2)\n",
    "\n",
    "    reconstruction = tf.keras.layers.Conv2D(1, (1,1), activation='relu')(up_sample3)\n",
    "\n",
    "    conv_no_pool_autoenecoder = tf.keras.Model(input_layer, reconstruction)\n",
    "\n",
    "    return conv_no_pool_autoenecoder"
   ]
  },
  {
   "cell_type": "code",
   "execution_count": 349,
   "metadata": {},
   "outputs": [],
   "source": [
    "total_dataset_length = 224146\n",
    "\n",
    "validation_length = 60000\n",
    "training_length = total_dataset_length-validation_length\n",
    "\n",
    "\n",
    "training_data = subject_list[:training_length]\n",
    "validation_data = subject_list[training_length:]\n",
    "\n",
    "train_seq_generator_conv = image_generator(training_data, encoding_scheme= None, batch_size=128, sequence_size=69)\n",
    "valid_seq_generator_conv = image_generator(validation_data, encoding_scheme=None, batch_size=128, sequence_size=69)"
   ]
  },
  {
   "cell_type": "code",
   "execution_count": 350,
   "metadata": {},
   "outputs": [],
   "source": [
    "tf.keras.backend.clear_session()"
   ]
  },
  {
   "cell_type": "code",
   "execution_count": 351,
   "metadata": {},
   "outputs": [
    {
     "name": "stdout",
     "output_type": "stream",
     "text": [
      "Model: \"model\"\n",
      "_________________________________________________________________\n",
      "Layer (type)                 Output Shape              Param #   \n",
      "=================================================================\n",
      "input_1 (InputLayer)         [(None, 70, 8, 1)]        0         \n",
      "_________________________________________________________________\n",
      "conv2d (Conv2D)              (None, 70, 1, 256)        2304      \n",
      "_________________________________________________________________\n",
      "max_pooling2d (MaxPooling2D) (None, 35, 1, 256)        0         \n",
      "_________________________________________________________________\n",
      "conv2d_1 (Conv2D)            (None, 32, 1, 128)        131200    \n",
      "_________________________________________________________________\n",
      "max_pooling2d_1 (MaxPooling2 (None, 16, 1, 128)        0         \n",
      "_________________________________________________________________\n",
      "conv2d_transpose (Conv2DTran (None, 35, 1, 128)        65664     \n",
      "_________________________________________________________________\n",
      "conv2d_transpose_1 (Conv2DTr (None, 70, 8, 256)        524544    \n",
      "_________________________________________________________________\n",
      "conv2d_2 (Conv2D)            (None, 70, 8, 1)          257       \n",
      "=================================================================\n",
      "Total params: 723,969\n",
      "Trainable params: 723,969\n",
      "Non-trainable params: 0\n",
      "_________________________________________________________________\n"
     ]
    }
   ],
   "source": [
    "conv_based_autoencoder = get_conv_autoencoder(69)\n",
    "#conv_based_autoencoder = get_conv_autoencoder_no_pooling(63)\n",
    "conv_based_autoencoder.summary()"
   ]
  },
  {
   "cell_type": "code",
   "execution_count": 352,
   "metadata": {},
   "outputs": [
    {
     "name": "stdout",
     "output_type": "stream",
     "text": [
      "Default GPU Device:/device:GPU:0\n"
     ]
    }
   ],
   "source": [
    "if tf.test.gpu_device_name(): \n",
    "    print('Default GPU Device:{}'.format(tf.test.gpu_device_name()))\n",
    "else:\n",
    "   print(\"Please install GPU version of TF\")"
   ]
  },
  {
   "cell_type": "code",
   "execution_count": 76,
   "metadata": {},
   "outputs": [],
   "source": [
    "def SSIMLoss(y_true, y_pred):\n",
    "    return 1 - tf.reduce_mean(tf.image.ssim(y_true, y_pred, 2.0))"
   ]
  },
  {
   "cell_type": "code",
   "execution_count": 353,
   "metadata": {},
   "outputs": [],
   "source": [
    "conv_based_autoencoder.compile(loss=tf.keras.losses.MSE, optimizer=tf.keras.optimizers.Adam(learning_rate=5e-04))\n",
    "#conv_based_autoencoder.compile(loss=tf.keras.losses.MSE, optimizer=tf.keras.optimizers.Adam(learning_rate=5e-04))"
   ]
  },
  {
   "cell_type": "code",
   "execution_count": 354,
   "metadata": {},
   "outputs": [
    {
     "name": "stderr",
     "output_type": "stream",
     "text": [
      "/home/monowar/anaconda3/envs/envphase2/lib/python3.9/site-packages/tensorflow/python/keras/engine/training.py:1844: UserWarning: `Model.fit_generator` is deprecated and will be removed in a future version. Please use `Model.fit`, which supports generators.\n",
      "  warnings.warn('`Model.fit_generator` is deprecated and '\n"
     ]
    },
    {
     "name": "stdout",
     "output_type": "stream",
     "text": [
      "Epoch 1/50\n",
      "500/500 [==============================] - 20s 39ms/step - loss: 412.5180 - val_loss: 0.0640\n",
      "Epoch 2/50\n",
      "500/500 [==============================] - 19s 39ms/step - loss: 0.0842 - val_loss: 0.0433\n",
      "Epoch 3/50\n",
      "500/500 [==============================] - 19s 39ms/step - loss: 0.0464 - val_loss: 0.0429\n",
      "Epoch 4/50\n",
      "500/500 [==============================] - 20s 39ms/step - loss: 0.0425 - val_loss: 0.0457\n",
      "Epoch 5/50\n",
      "500/500 [==============================] - 19s 39ms/step - loss: 0.0461 - val_loss: 0.0837\n",
      "Epoch 6/50\n",
      "500/500 [==============================] - 19s 38ms/step - loss: 0.3967 - val_loss: 0.0400\n",
      "Epoch 7/50\n",
      "500/500 [==============================] - 19s 38ms/step - loss: 4.1701 - val_loss: 0.0441\n",
      "Epoch 8/50\n",
      "500/500 [==============================] - 19s 39ms/step - loss: 0.1069 - val_loss: 0.0416\n",
      "Epoch 9/50\n",
      "500/500 [==============================] - 19s 39ms/step - loss: 0.1685 - val_loss: 0.0707\n",
      "Epoch 10/50\n",
      "500/500 [==============================] - 19s 39ms/step - loss: 0.0641 - val_loss: 0.0277\n",
      "Epoch 11/50\n",
      "500/500 [==============================] - 20s 39ms/step - loss: 0.0395 - val_loss: 0.6451\n",
      "Epoch 12/50\n",
      "500/500 [==============================] - 20s 39ms/step - loss: 0.0976 - val_loss: 0.0271\n",
      "Epoch 13/50\n",
      "500/500 [==============================] - 19s 39ms/step - loss: 0.0285 - val_loss: 0.0273\n",
      "Epoch 14/50\n",
      "500/500 [==============================] - 19s 39ms/step - loss: 0.0481 - val_loss: 46.9040\n",
      "Epoch 15/50\n",
      "500/500 [==============================] - 20s 39ms/step - loss: 1.6836 - val_loss: 0.0294\n",
      "Epoch 16/50\n",
      "500/500 [==============================] - 19s 39ms/step - loss: 0.0351 - val_loss: 0.0446\n",
      "Epoch 17/50\n",
      "500/500 [==============================] - 19s 39ms/step - loss: 0.0883 - val_loss: 0.0268\n",
      "Epoch 18/50\n",
      "500/500 [==============================] - 19s 39ms/step - loss: 0.0273 - val_loss: 0.0270\n",
      "Epoch 19/50\n",
      "500/500 [==============================] - 19s 39ms/step - loss: 0.0271 - val_loss: 0.0266\n",
      "Epoch 20/50\n",
      "500/500 [==============================] - 19s 39ms/step - loss: 0.0267 - val_loss: 0.0266\n",
      "Epoch 21/50\n",
      "500/500 [==============================] - 19s 39ms/step - loss: 8.8653 - val_loss: 23.2773\n",
      "Epoch 22/50\n",
      "500/500 [==============================] - 19s 39ms/step - loss: 2.6964 - val_loss: 0.0607\n",
      "Epoch 23/50\n",
      "500/500 [==============================] - 19s 39ms/step - loss: 0.1810 - val_loss: 0.0715\n",
      "Epoch 24/50\n",
      "500/500 [==============================] - 19s 39ms/step - loss: 0.1564 - val_loss: 0.0917\n",
      "Epoch 25/50\n",
      "500/500 [==============================] - 20s 39ms/step - loss: 4.7542 - val_loss: 0.0302\n",
      "Epoch 26/50\n",
      "500/500 [==============================] - 19s 39ms/step - loss: 46.2956 - val_loss: 0.0698\n",
      "Epoch 27/50\n",
      "500/500 [==============================] - 19s 39ms/step - loss: 0.0386 - val_loss: 0.0330\n",
      "Epoch 28/50\n",
      "500/500 [==============================] - 19s 39ms/step - loss: 0.0346 - val_loss: 0.0301\n",
      "Epoch 29/50\n",
      "500/500 [==============================] - 19s 39ms/step - loss: 0.0489 - val_loss: 0.0311\n",
      "Epoch 30/50\n",
      "500/500 [==============================] - 19s 39ms/step - loss: 0.0368 - val_loss: 0.0310\n",
      "Epoch 31/50\n",
      "500/500 [==============================] - 19s 39ms/step - loss: 0.0400 - val_loss: 0.0279\n",
      "Epoch 32/50\n",
      "500/500 [==============================] - 19s 39ms/step - loss: 0.0318 - val_loss: 0.0272\n",
      "Epoch 33/50\n",
      "500/500 [==============================] - 19s 39ms/step - loss: 0.0275 - val_loss: 0.0269\n",
      "Epoch 34/50\n",
      "500/500 [==============================] - 19s 39ms/step - loss: 0.0270 - val_loss: 0.0268\n",
      "Epoch 35/50\n",
      "500/500 [==============================] - 19s 39ms/step - loss: 0.0273 - val_loss: 0.0271\n",
      "Epoch 36/50\n",
      "500/500 [==============================] - 19s 39ms/step - loss: 0.0268 - val_loss: 0.0267\n",
      "Epoch 37/50\n",
      "500/500 [==============================] - 19s 38ms/step - loss: 0.0268 - val_loss: 0.0268\n",
      "Epoch 38/50\n",
      "500/500 [==============================] - 20s 39ms/step - loss: 0.0268 - val_loss: 0.0267\n",
      "Epoch 39/50\n",
      "500/500 [==============================] - 19s 39ms/step - loss: 6.0063 - val_loss: 0.0955\n",
      "Epoch 40/50\n",
      "500/500 [==============================] - 19s 39ms/step - loss: 0.1059 - val_loss: 0.1471\n",
      "Epoch 41/50\n",
      "500/500 [==============================] - 19s 39ms/step - loss: 0.4532 - val_loss: 0.0610\n",
      "Epoch 42/50\n",
      "500/500 [==============================] - 20s 39ms/step - loss: 0.3351 - val_loss: 0.1351\n",
      "Epoch 43/50\n",
      "500/500 [==============================] - 19s 39ms/step - loss: 0.2274 - val_loss: 0.0759\n",
      "Epoch 44/50\n",
      "500/500 [==============================] - 19s 39ms/step - loss: 0.0824 - val_loss: 0.0610\n",
      "Epoch 45/50\n",
      "500/500 [==============================] - 19s 39ms/step - loss: 0.0757 - val_loss: 0.0599\n",
      "Epoch 46/50\n",
      "500/500 [==============================] - 19s 39ms/step - loss: 0.0726 - val_loss: 0.0600\n",
      "Epoch 47/50\n",
      "500/500 [==============================] - 19s 39ms/step - loss: 0.4557 - val_loss: 0.0616\n",
      "Epoch 48/50\n",
      "500/500 [==============================] - 19s 39ms/step - loss: 0.0615 - val_loss: 0.0620\n",
      "Epoch 49/50\n",
      "500/500 [==============================] - 19s 39ms/step - loss: 0.0615 - val_loss: 0.0621\n",
      "Epoch 50/50\n",
      "500/500 [==============================] - 19s 39ms/step - loss: 0.0629 - val_loss: 0.0614\n"
     ]
    }
   ],
   "source": [
    "history = conv_based_autoencoder.fit_generator(train_seq_generator_conv, steps_per_epoch=500, epochs=50, validation_data = valid_seq_generator_conv, validation_steps=250)"
   ]
  },
  {
   "cell_type": "code",
   "execution_count": 356,
   "metadata": {},
   "outputs": [
    {
     "data": {
      "image/png": "[encoded data removed]",
      "text/plain": [
       "<Figure size 600x200 with 1 Axes>"
      ]
     },
     "metadata": {},
     "output_type": "display_data"
    }
   ],
   "source": [
    "training_loss = history.history['loss'][:]\n",
    "val_los = history.history['val_loss'][:]\n",
    "\n",
    "plt.figure(figsize=(6,2))\n",
    "plt.grid()\n",
    "\n",
    "plt.plot((training_loss))\n",
    "plt.plot((val_los))\n",
    "\n",
    "plt.show()"
   ]
  },
  {
   "cell_type": "markdown",
   "metadata": {},
   "source": [
    "## Before we proceed any further, let us process the labeled data. We have two files for that. Let us extract them and create a label holder."
   ]
  },
  {
   "cell_type": "code",
   "execution_count": 97,
   "metadata": {},
   "outputs": [],
   "source": [
    "file_event_labels = '/mnt/8tb/csenrc/representation_learning_codes/File_events_labels.csv'\n",
    "network_event_labels = '/mnt/8tb/csenrc/representation_learning_codes/IP_events_labels.csv'"
   ]
  },
  {
   "cell_type": "code",
   "execution_count": 98,
   "metadata": {},
   "outputs": [],
   "source": [
    "malicious_file_events = pd.read_csv(file_event_labels)\n",
    "malicious_ip_events = pd.read_csv(network_event_labels)"
   ]
  },
  {
   "cell_type": "code",
   "execution_count": 99,
   "metadata": {},
   "outputs": [
    {
     "data": {
      "text/html": [
       "<div>\n",
       "<style scoped>\n",
       "    .dataframe tbody tr th:only-of-type {\n",
       "        vertical-align: middle;\n",
       "    }\n",
       "\n",
       "    .dataframe tbody tr th {\n",
       "        vertical-align: top;\n",
       "    }\n",
       "\n",
       "    .dataframe thead th {\n",
       "        text-align: right;\n",
       "    }\n",
       "</style>\n",
       "<table border=\"1\" class=\"dataframe\">\n",
       "  <thead>\n",
       "    <tr style=\"text-align: right;\">\n",
       "      <th></th>\n",
       "      <th>event_uuid</th>\n",
       "      <th>event_name</th>\n",
       "      <th>event_type</th>\n",
       "      <th>time_stamp_nanos</th>\n",
       "      <th>subject_uuid</th>\n",
       "      <th>predicate_object</th>\n",
       "      <th>prediacte_object_path</th>\n",
       "      <th>predicate_object_2</th>\n",
       "      <th>predicate_object_path_2</th>\n",
       "    </tr>\n",
       "  </thead>\n",
       "  <tbody>\n",
       "    <tr>\n",
       "      <th>0</th>\n",
       "      <td>7DBB1800-D1DD-5300-9D44-1A13E9981557</td>\n",
       "      <td>aue_open_rwtc</td>\n",
       "      <td>EVENT_OPEN</td>\n",
       "      <td>1523625074974644925</td>\n",
       "      <td>11C65665-3DC3-11E8-A5CA-3FA3753A265A</td>\n",
       "      <td>0C773AFD-8F2A-3555-AA8F-AFF835357207</td>\n",
       "      <td>/tmp/eWq10bVcx</td>\n",
       "      <td>NaN</td>\n",
       "      <td>NaN</td>\n",
       "    </tr>\n",
       "    <tr>\n",
       "      <th>1</th>\n",
       "      <td>484BEB8C-FA55-54C0-BC5B-0BA0CCA84818</td>\n",
       "      <td>aue_chmod</td>\n",
       "      <td>EVENT_MODIFY_FILE_ATTRIBUTES</td>\n",
       "      <td>1523625074974644925</td>\n",
       "      <td>11C65665-3DC3-11E8-A5CA-3FA3753A265A</td>\n",
       "      <td>0C773AFD-8F2A-3555-AA8F-AFF835357207</td>\n",
       "      <td>/tmp/eWq10bVcx</td>\n",
       "      <td>NaN</td>\n",
       "      <td>NaN</td>\n",
       "    </tr>\n",
       "    <tr>\n",
       "      <th>2</th>\n",
       "      <td>401ECBFF-F199-5CB7-BB3F-33421209E979</td>\n",
       "      <td>aue_open_rwtc</td>\n",
       "      <td>EVENT_OPEN</td>\n",
       "      <td>1523625384084637086</td>\n",
       "      <td>4FB0BFEA-3F1C-11E8-A5CB-3FA3753A265A</td>\n",
       "      <td>0C773AFD-8F2A-3555-AA8F-AFF835357207</td>\n",
       "      <td>/tmp/eWq10bVcx</td>\n",
       "      <td>NaN</td>\n",
       "      <td>NaN</td>\n",
       "    </tr>\n",
       "    <tr>\n",
       "      <th>3</th>\n",
       "      <td>C069C841-DBAF-5D41-BA83-17B97B6B8108</td>\n",
       "      <td>aue_openat_rwtc</td>\n",
       "      <td>EVENT_OPEN</td>\n",
       "      <td>1523625386674637936</td>\n",
       "      <td>2CA83801-3E80-11E8-A5CB-3FA3753A265A</td>\n",
       "      <td>0C773AFD-8F2A-3555-AA8F-AFF835357207</td>\n",
       "      <td>/tmp/eWq10bVcx</td>\n",
       "      <td>NaN</td>\n",
       "      <td>NaN</td>\n",
       "    </tr>\n",
       "    <tr>\n",
       "      <th>4</th>\n",
       "      <td>B6316F5A-21F9-53DB-986F-E993F7FF778C</td>\n",
       "      <td>aue_openat_rwtc</td>\n",
       "      <td>EVENT_OPEN</td>\n",
       "      <td>1523625429714638405</td>\n",
       "      <td>4FB0BFEA-3F1C-11E8-A5CB-3FA3753A265A</td>\n",
       "      <td>0C773AFD-8F2A-3555-AA8F-AFF835357207</td>\n",
       "      <td>/tmp/eWq10bVcx</td>\n",
       "      <td>NaN</td>\n",
       "      <td>NaN</td>\n",
       "    </tr>\n",
       "  </tbody>\n",
       "</table>\n",
       "</div>"
      ],
      "text/plain": [
       "                             event_uuid       event_name  \\\n",
       "0  7DBB1800-D1DD-5300-9D44-1A13E9981557    aue_open_rwtc   \n",
       "1  484BEB8C-FA55-54C0-BC5B-0BA0CCA84818        aue_chmod   \n",
       "2  401ECBFF-F199-5CB7-BB3F-33421209E979    aue_open_rwtc   \n",
       "3  C069C841-DBAF-5D41-BA83-17B97B6B8108  aue_openat_rwtc   \n",
       "4  B6316F5A-21F9-53DB-986F-E993F7FF778C  aue_openat_rwtc   \n",
       "\n",
       "                     event_type     time_stamp_nanos  \\\n",
       "0                    EVENT_OPEN  1523625074974644925   \n",
       "1  EVENT_MODIFY_FILE_ATTRIBUTES  1523625074974644925   \n",
       "2                    EVENT_OPEN  1523625384084637086   \n",
       "3                    EVENT_OPEN  1523625386674637936   \n",
       "4                    EVENT_OPEN  1523625429714638405   \n",
       "\n",
       "                           subject_uuid                      predicate_object  \\\n",
       "0  11C65665-3DC3-11E8-A5CA-3FA3753A265A  0C773AFD-8F2A-3555-AA8F-AFF835357207   \n",
       "1  11C65665-3DC3-11E8-A5CA-3FA3753A265A  0C773AFD-8F2A-3555-AA8F-AFF835357207   \n",
       "2  4FB0BFEA-3F1C-11E8-A5CB-3FA3753A265A  0C773AFD-8F2A-3555-AA8F-AFF835357207   \n",
       "3  2CA83801-3E80-11E8-A5CB-3FA3753A265A  0C773AFD-8F2A-3555-AA8F-AFF835357207   \n",
       "4  4FB0BFEA-3F1C-11E8-A5CB-3FA3753A265A  0C773AFD-8F2A-3555-AA8F-AFF835357207   \n",
       "\n",
       "  prediacte_object_path predicate_object_2 predicate_object_path_2  \n",
       "0        /tmp/eWq10bVcx                NaN                     NaN  \n",
       "1        /tmp/eWq10bVcx                NaN                     NaN  \n",
       "2        /tmp/eWq10bVcx                NaN                     NaN  \n",
       "3        /tmp/eWq10bVcx                NaN                     NaN  \n",
       "4        /tmp/eWq10bVcx                NaN                     NaN  "
      ]
     },
     "execution_count": 99,
     "metadata": {},
     "output_type": "execute_result"
    }
   ],
   "source": [
    "malicious_file_events.head()"
   ]
  },
  {
   "cell_type": "code",
   "execution_count": 101,
   "metadata": {},
   "outputs": [
    {
     "name": "stdout",
     "output_type": "stream",
     "text": [
      "93\n",
      "27\n"
     ]
    }
   ],
   "source": [
    "print(len(malicious_file_events))\n",
    "print(len(malicious_file_events['subject_uuid'].unique()))"
   ]
  },
  {
   "cell_type": "code",
   "execution_count": 102,
   "metadata": {},
   "outputs": [],
   "source": [
    "malicious_file_subjects = malicious_file_events['subject_uuid'].unique()"
   ]
  },
  {
   "cell_type": "code",
   "execution_count": 103,
   "metadata": {},
   "outputs": [],
   "source": [
    "# Setting up a db connection. I was trying to avoid this. But, well. It is what it is.\n",
    "\n",
    "psql_connection_url = 'postgresql+psycopg2://csephase2:csephase@@localhost/darpa_tc3'\n",
    "psql_engine = create_engine(psql_connection_url)\n",
    "Session = sessionmaker(bind=psql_engine)\n",
    "session = Session()"
   ]
  },
  {
   "cell_type": "code",
   "execution_count": 107,
   "metadata": {},
   "outputs": [
    {
     "name": "stdout",
     "output_type": "stream",
     "text": [
      "11C65665-3DC3-11E8-A5CA-3FA3753A265A  has database primary key :  201998  and currently has :  546  events in the graph.\n",
      "4FB0BFEA-3F1C-11E8-A5CB-3FA3753A265A  has database primary key :  216121  and currently has :  20799  events in the graph.\n",
      "2CA83801-3E80-11E8-A5CB-3FA3753A265A  has database primary key :  200770  and currently has :  662  events in the graph.\n",
      "E0C1A46B-3F1B-11E8-A5CB-3FA3753A265A  has database primary key :  216033  and currently has :  276  events in the graph.\n",
      "042ADADF-3F1C-11E8-A5CB-3FA3753A265A  has database primary key :  216056  and currently has :  275  events in the graph.\n",
      "8603F11E-3F1C-11E8-A5CB-3FA3753A265A  has database primary key :  216144  and currently has :  290  events in the graph.\n",
      "E24D97B4-3F1C-11E8-A5CB-3FA3753A265A  has database primary key :  216180  and currently has :  279  events in the graph.\n",
      "0A5AA28E-3F1D-11E8-A5CB-3FA3753A265A  has database primary key :  216199  and currently has :  289  events in the graph.\n",
      "11AA4698-3F1D-11E8-A5CB-3FA3753A265A  has database primary key :  216217  and currently has :  284  events in the graph.\n",
      "2720E25F-39BE-11E8-B8CE-15D78AC88FB6  has database primary key :  121208  and currently has :  7087  events in the graph.\n",
      "11C64B2C-3DC3-11E8-A5CA-3FA3753A265A  has database primary key :  182633  and currently has :  2465  events in the graph.\n",
      "219DE547-3E7E-11E8-A5CB-3FA3753A265A  has database primary key :  200446  and currently has :  63  events in the graph.\n",
      "48289024-3E7E-11E8-A5CB-3FA3753A265A  has database primary key :  200487  and currently has :  663  events in the graph.\n",
      "BF8EF43F-3E7D-11E8-A5CB-3FA3753A265A  has database primary key :  200406  and currently has :  2  events in the graph.\n",
      "5CD609A7-3E7F-11E8-A5CB-3FA3753A265A  has database primary key :  200600  and currently has :  48  events in the graph.\n",
      "17C4C0C3-3E7D-11E8-A5CB-3FA3753A265A  has database primary key :  200306  and currently has :  53  events in the graph.\n",
      "7B30E76D-3E7D-11E8-A5CB-3FA3753A265A  has database primary key :  200377  and currently has :  54  events in the graph.\n",
      "DCBB8D5C-3E7F-11E8-A5CB-3FA3753A265A  has database primary key :  200665  and currently has :  55  events in the graph.\n",
      "0001A528-3E80-11E8-A5CB-3FA3753A265A  has database primary key :  200702  and currently has :  54  events in the graph.\n",
      "327621AE-3E80-11E8-A5CB-3FA3753A265A  has database primary key :  200771  and currently has :  54  events in the graph.\n",
      "47E61FFC-3E80-11E8-A5CB-3FA3753A265A  has database primary key :  200787  and currently has :  43477  events in the graph.\n",
      "C4F4FF22-3E7B-11E8-A5CB-3FA3753A265A  has database primary key :  200105  and currently has :  44  events in the graph.\n",
      "42E4A848-3E7C-11E8-A5CB-3FA3753A265A  has database primary key :  200186  and currently has :  54  events in the graph.\n",
      "B6E5EA8F-3E7C-11E8-A5CB-3FA3753A265A  has database primary key :  200230  and currently has :  108  events in the graph.\n",
      "CF565BC0-3E7E-11E8-A5CB-3FA3753A265A  has database primary key :  200548  and currently has :  120  events in the graph.\n",
      "15267234-3E7F-11E8-A5CB-3FA3753A265A  has database primary key :  200569  and currently has :  51  events in the graph.\n",
      "1D3ACF79-3E7F-11E8-A5CB-3FA3753A265A  has database primary key :  200577  and currently has :  35  events in the graph.\n"
     ]
    }
   ],
   "source": [
    "for subject in malicious_file_subjects:\n",
    "    sub = gc.get_node(session, subject, gc.mapping_dict[\"SUBJECT\"])\n",
    "    print(sub.uuid,\" has database primary key : \", sub.id, \" and currently has : \", len(cleaned_provenance_graph[str(sub.id)]['events']), \" events in the graph.\")"
   ]
  },
  {
   "cell_type": "code",
   "execution_count": 3,
   "metadata": {},
   "outputs": [
    {
     "data": {
      "text/plain": [
       "['/mnt/8tb/csenrc/tc3/data/trace/extracted_json/ta1-trace-e3-official.json.78',\n",
       " '/mnt/8tb/csenrc/tc3/data/trace/extracted_json/ta1-trace-e3-official.json.147',\n",
       " '/mnt/8tb/csenrc/tc3/data/trace/extracted_json/ta1-trace-e3-official.json.114',\n",
       " '/mnt/8tb/csenrc/tc3/data/trace/extracted_json/ta1-trace-e3-official.json.92',\n",
       " '/mnt/8tb/csenrc/tc3/data/trace/extracted_json/ta1-trace-e3-official.json.103',\n",
       " '/mnt/8tb/csenrc/tc3/data/trace/extracted_json/ta1-trace-e3-official.json.128',\n",
       " '/mnt/8tb/csenrc/tc3/data/trace/extracted_json/ta1-trace-e3-official.json.186',\n",
       " '/mnt/8tb/csenrc/tc3/data/trace/extracted_json/ta1-trace-e3-official.json.66',\n",
       " '/mnt/8tb/csenrc/tc3/data/trace/extracted_json/ta1-trace-e3-official.json.47',\n",
       " '/mnt/8tb/csenrc/tc3/data/trace/extracted_json/ta1-trace-e3-official.json.169',\n",
       " '/mnt/8tb/csenrc/tc3/data/trace/extracted_json/ta1-trace-e3-official.json.155',\n",
       " '/mnt/8tb/csenrc/tc3/data/trace/extracted_json/ta1-trace-e3-official.json.67',\n",
       " '/mnt/8tb/csenrc/tc3/data/trace/extracted_json/ta1-trace-e3-official.json.95',\n",
       " '/mnt/8tb/csenrc/tc3/data/trace/extracted_json/ta1-trace-e3-official.json.174',\n",
       " '/mnt/8tb/csenrc/tc3/data/trace/extracted_json/ta1-trace-e3-official.json.62',\n",
       " '/mnt/8tb/csenrc/tc3/data/trace/extracted_json/ta1-trace-e3-official.json.195',\n",
       " '/mnt/8tb/csenrc/tc3/data/trace/extracted_json/ta1-trace-e3-official.json.5',\n",
       " '/mnt/8tb/csenrc/tc3/data/trace/extracted_json/ta1-trace-e3-official.json.132',\n",
       " '/mnt/8tb/csenrc/tc3/data/trace/extracted_json/ta1-trace-e3-official.json.107',\n",
       " '/mnt/8tb/csenrc/tc3/data/trace/extracted_json/ta1-trace-e3-official.json.202',\n",
       " '/mnt/8tb/csenrc/tc3/data/trace/extracted_json/ta1-trace-e3-official.json.53',\n",
       " '/mnt/8tb/csenrc/tc3/data/trace/extracted_json/ta1-trace-e3-official.json.127',\n",
       " '/mnt/8tb/csenrc/tc3/data/trace/extracted_json/ta1-trace-e3-official.json.63',\n",
       " '/mnt/8tb/csenrc/tc3/data/trace/extracted_json/ta1-trace-e3-official.json.9',\n",
       " '/mnt/8tb/csenrc/tc3/data/trace/extracted_json/ta1-trace-e3-official.json.120',\n",
       " '/mnt/8tb/csenrc/tc3/data/trace/extracted_json/ta1-trace-e3-official.json.182',\n",
       " '/mnt/8tb/csenrc/tc3/data/trace/extracted_json/ta1-trace-e3-official.json.123',\n",
       " '/mnt/8tb/csenrc/tc3/data/trace/extracted_json/ta1-trace-e3-official.json.21',\n",
       " '/mnt/8tb/csenrc/tc3/data/trace/extracted_json/ta1-trace-e3-official.json.40',\n",
       " '/mnt/8tb/csenrc/tc3/data/trace/extracted_json/ta1-trace-e3-official.json.134',\n",
       " '/mnt/8tb/csenrc/tc3/data/trace/extracted_json/ta1-trace-e3-official.json.51',\n",
       " '/mnt/8tb/csenrc/tc3/data/trace/extracted_json/ta1-trace-e3-official.json.13',\n",
       " '/mnt/8tb/csenrc/tc3/data/trace/extracted_json/ta1-trace-e3-official.json.145',\n",
       " '/mnt/8tb/csenrc/tc3/data/trace/extracted_json/ta1-trace-e3-official.json.46',\n",
       " '/mnt/8tb/csenrc/tc3/data/trace/extracted_json/ta1-trace-e3-official.json.199',\n",
       " '/mnt/8tb/csenrc/tc3/data/trace/extracted_json/ta1-trace-e3-official.json.88',\n",
       " '/mnt/8tb/csenrc/tc3/data/trace/extracted_json/ta1-trace-e3-official.json.33',\n",
       " '/mnt/8tb/csenrc/tc3/data/trace/extracted_json/ta1-trace-e3-official.json.74',\n",
       " '/mnt/8tb/csenrc/tc3/data/trace/extracted_json/ta1-trace-e3-official.json.151',\n",
       " '/mnt/8tb/csenrc/tc3/data/trace/extracted_json/ta1-trace-e3-official.json.168',\n",
       " '/mnt/8tb/csenrc/tc3/data/trace/extracted_json/ta1-trace-e3-official.json.22',\n",
       " '/mnt/8tb/csenrc/tc3/data/trace/extracted_json/ta1-trace-e3-official.json.96',\n",
       " '/mnt/8tb/csenrc/tc3/data/trace/extracted_json/ta1-trace-e3-official.json.137',\n",
       " '/mnt/8tb/csenrc/tc3/data/trace/extracted_json/ta1-trace-e3-official.json.1',\n",
       " '/mnt/8tb/csenrc/tc3/data/trace/extracted_json/ta1-trace-e3-official.json.38',\n",
       " '/mnt/8tb/csenrc/tc3/data/trace/extracted_json/ta1-trace-e3-official.json.98',\n",
       " '/mnt/8tb/csenrc/tc3/data/trace/extracted_json/ta1-trace-e3-official.json.28',\n",
       " '/mnt/8tb/csenrc/tc3/data/trace/extracted_json/ta1-trace-e3-official.json.108',\n",
       " '/mnt/8tb/csenrc/tc3/data/trace/extracted_json/ta1-trace-e3-official.json.91',\n",
       " '/mnt/8tb/csenrc/tc3/data/trace/extracted_json/ta1-trace-e3-official.json.70',\n",
       " '/mnt/8tb/csenrc/tc3/data/trace/extracted_json/ta1-trace-e3-official.json.60',\n",
       " '/mnt/8tb/csenrc/tc3/data/trace/extracted_json/ta1-trace-e3-official.json.19',\n",
       " '/mnt/8tb/csenrc/tc3/data/trace/extracted_json/ta1-trace-e3-official.json.167',\n",
       " '/mnt/8tb/csenrc/tc3/data/trace/extracted_json/ta1-trace-e3-official.json.143',\n",
       " '/mnt/8tb/csenrc/tc3/data/trace/extracted_json/ta1-trace-e3-official.json.192',\n",
       " '/mnt/8tb/csenrc/tc3/data/trace/extracted_json/ta1-trace-e3-official.json.29',\n",
       " '/mnt/8tb/csenrc/tc3/data/trace/extracted_json/ta1-trace-e3-official.json.94',\n",
       " '/mnt/8tb/csenrc/tc3/data/trace/extracted_json/ta1-trace-e3-official.json.150',\n",
       " '/mnt/8tb/csenrc/tc3/data/trace/extracted_json/ta1-trace-e3-official.json.190',\n",
       " '/mnt/8tb/csenrc/tc3/data/trace/extracted_json/ta1-trace-e3-official.json.11',\n",
       " '/mnt/8tb/csenrc/tc3/data/trace/extracted_json/ta1-trace-e3-official.json.172',\n",
       " '/mnt/8tb/csenrc/tc3/data/trace/extracted_json/ta1-trace-e3-official.json.106',\n",
       " '/mnt/8tb/csenrc/tc3/data/trace/extracted_json/ta1-trace-e3-official.json.139',\n",
       " '/mnt/8tb/csenrc/tc3/data/trace/extracted_json/ta1-trace-e3-official.json.68',\n",
       " '/mnt/8tb/csenrc/tc3/data/trace/extracted_json/ta1-trace-e3-official.json.35',\n",
       " '/mnt/8tb/csenrc/tc3/data/trace/extracted_json/ta1-trace-e3-official.json.163',\n",
       " '/mnt/8tb/csenrc/tc3/data/trace/extracted_json/ta1-trace-e3-official.json.80',\n",
       " '/mnt/8tb/csenrc/tc3/data/trace/extracted_json/ta1-trace-e3-official.json.73',\n",
       " '/mnt/8tb/csenrc/tc3/data/trace/extracted_json/ta1-trace-e3-official.json.20',\n",
       " '/mnt/8tb/csenrc/tc3/data/trace/extracted_json/ta1-trace-e3-official.json.105',\n",
       " '/mnt/8tb/csenrc/tc3/data/trace/extracted_json/ta1-trace-e3-official.json.61',\n",
       " '/mnt/8tb/csenrc/tc3/data/trace/extracted_json/ta1-trace-e3-official.json.136',\n",
       " '/mnt/8tb/csenrc/tc3/data/trace/extracted_json/ta1-trace-e3-official.json.121',\n",
       " '/mnt/8tb/csenrc/tc3/data/trace/extracted_json/ta1-trace-e3-official.json.2',\n",
       " '/mnt/8tb/csenrc/tc3/data/trace/extracted_json/ta1-trace-e3-official.json.18',\n",
       " '/mnt/8tb/csenrc/tc3/data/trace/extracted_json/ta1-trace-e3-official.json.90',\n",
       " '/mnt/8tb/csenrc/tc3/data/trace/extracted_json/ta1-trace-e3-official.json.178',\n",
       " '/mnt/8tb/csenrc/tc3/data/trace/extracted_json/ta1-trace-e3-official.json.58',\n",
       " '/mnt/8tb/csenrc/tc3/data/trace/extracted_json/ta1-trace-e3-official.json.34',\n",
       " '/mnt/8tb/csenrc/tc3/data/trace/extracted_json/ta1-trace-e3-official-1.json.2',\n",
       " '/mnt/8tb/csenrc/tc3/data/trace/extracted_json/ta1-trace-e3-official.json.69',\n",
       " '/mnt/8tb/csenrc/tc3/data/trace/extracted_json/ta1-trace-e3-official.json.30',\n",
       " '/mnt/8tb/csenrc/tc3/data/trace/extracted_json/ta1-trace-e3-official.json.93',\n",
       " '/mnt/8tb/csenrc/tc3/data/trace/extracted_json/ta1-trace-e3-official.json.112',\n",
       " '/mnt/8tb/csenrc/tc3/data/trace/extracted_json/ta1-trace-e3-official.json.54',\n",
       " '/mnt/8tb/csenrc/tc3/data/trace/extracted_json/ta1-trace-e3-official.json.135',\n",
       " '/mnt/8tb/csenrc/tc3/data/trace/extracted_json/ta1-trace-e3-official.json.59',\n",
       " '/mnt/8tb/csenrc/tc3/data/trace/extracted_json/ta1-trace-e3-official.json.50',\n",
       " '/mnt/8tb/csenrc/tc3/data/trace/extracted_json/ta1-trace-e3-official.json.101',\n",
       " '/mnt/8tb/csenrc/tc3/data/trace/extracted_json/ta1-trace-e3-official.json.75',\n",
       " '/mnt/8tb/csenrc/tc3/data/trace/extracted_json/ta1-trace-e3-official.json.85',\n",
       " '/mnt/8tb/csenrc/tc3/data/trace/extracted_json/ta1-trace-e3-official.json.191',\n",
       " '/mnt/8tb/csenrc/tc3/data/trace/extracted_json/ta1-trace-e3-official.json.32',\n",
       " '/mnt/8tb/csenrc/tc3/data/trace/extracted_json/ta1-trace-e3-official.json.43',\n",
       " '/mnt/8tb/csenrc/tc3/data/trace/extracted_json/ta1-trace-e3-official.json.187',\n",
       " '/mnt/8tb/csenrc/tc3/data/trace/extracted_json/ta1-trace-e3-official.json.131',\n",
       " '/mnt/8tb/csenrc/tc3/data/trace/extracted_json/ta1-trace-e3-official.json.72',\n",
       " '/mnt/8tb/csenrc/tc3/data/trace/extracted_json/ta1-trace-e3-official.json',\n",
       " '/mnt/8tb/csenrc/tc3/data/trace/extracted_json/ta1-trace-e3-official.json.77',\n",
       " '/mnt/8tb/csenrc/tc3/data/trace/extracted_json/ta1-trace-e3-official.json.82',\n",
       " '/mnt/8tb/csenrc/tc3/data/trace/extracted_json/ta1-trace-e3-official-1.json.1',\n",
       " '/mnt/8tb/csenrc/tc3/data/trace/extracted_json/ta1-trace-e3-official.json.176',\n",
       " '/mnt/8tb/csenrc/tc3/data/trace/extracted_json/ta1-trace-e3-official.json.57',\n",
       " '/mnt/8tb/csenrc/tc3/data/trace/extracted_json/ta1-trace-e3-official.json.157',\n",
       " '/mnt/8tb/csenrc/tc3/data/trace/extracted_json/ta1-trace-e3-official.json.23',\n",
       " '/mnt/8tb/csenrc/tc3/data/trace/extracted_json/ta1-trace-e3-official.json.181',\n",
       " '/mnt/8tb/csenrc/tc3/data/trace/extracted_json/ta1-trace-e3-official-1.json.4',\n",
       " '/mnt/8tb/csenrc/tc3/data/trace/extracted_json/ta1-trace-e3-official.json.180',\n",
       " '/mnt/8tb/csenrc/tc3/data/trace/extracted_json/ta1-trace-e3-official.json.100',\n",
       " '/mnt/8tb/csenrc/tc3/data/trace/extracted_json/ta1-trace-e3-official.json.197',\n",
       " '/mnt/8tb/csenrc/tc3/data/trace/extracted_json/ta1-trace-e3-official.json.26',\n",
       " '/mnt/8tb/csenrc/tc3/data/trace/extracted_json/ta1-trace-e3-official.json.119',\n",
       " '/mnt/8tb/csenrc/tc3/data/trace/extracted_json/ta1-trace-e3-official.json.12',\n",
       " '/mnt/8tb/csenrc/tc3/data/trace/extracted_json/ta1-trace-e3-official.json.25',\n",
       " '/mnt/8tb/csenrc/tc3/data/trace/extracted_json/ta1-trace-e3-official.json.110',\n",
       " '/mnt/8tb/csenrc/tc3/data/trace/extracted_json/ta1-trace-e3-official.json.171',\n",
       " '/mnt/8tb/csenrc/tc3/data/trace/extracted_json/ta1-trace-e3-official.json.111',\n",
       " '/mnt/8tb/csenrc/tc3/data/trace/extracted_json/ta1-trace-e3-official.json.104',\n",
       " '/mnt/8tb/csenrc/tc3/data/trace/extracted_json/ta1-trace-e3-official.json.116',\n",
       " '/mnt/8tb/csenrc/tc3/data/trace/extracted_json/ta1-trace-e3-official.json.41',\n",
       " '/mnt/8tb/csenrc/tc3/data/trace/extracted_json/ta1-trace-e3-official.json.39',\n",
       " '/mnt/8tb/csenrc/tc3/data/trace/extracted_json/ta1-trace-e3-official.json.142',\n",
       " '/mnt/8tb/csenrc/tc3/data/trace/extracted_json/ta1-trace-e3-official.json.27',\n",
       " '/mnt/8tb/csenrc/tc3/data/trace/extracted_json/ta1-trace-e3-official.json.196',\n",
       " '/mnt/8tb/csenrc/tc3/data/trace/extracted_json/ta1-trace-e3-official.json.65',\n",
       " '/mnt/8tb/csenrc/tc3/data/trace/extracted_json/ta1-trace-e3-official.json.154',\n",
       " '/mnt/8tb/csenrc/tc3/data/trace/extracted_json/ta1-trace-e3-official.json.159',\n",
       " '/mnt/8tb/csenrc/tc3/data/trace/extracted_json/ta1-trace-e3-official.json.194',\n",
       " '/mnt/8tb/csenrc/tc3/data/trace/extracted_json/ta1-trace-e3-official.json.141',\n",
       " '/mnt/8tb/csenrc/tc3/data/trace/extracted_json/ta1-trace-e3-official.json.15',\n",
       " '/mnt/8tb/csenrc/tc3/data/trace/extracted_json/ta1-trace-e3-official.json.201',\n",
       " '/mnt/8tb/csenrc/tc3/data/trace/extracted_json/ta1-trace-e3-official.json.189',\n",
       " '/mnt/8tb/csenrc/tc3/data/trace/extracted_json/ta1-trace-e3-official.json.97',\n",
       " '/mnt/8tb/csenrc/tc3/data/trace/extracted_json/ta1-trace-e3-official.json.117',\n",
       " '/mnt/8tb/csenrc/tc3/data/trace/extracted_json/ta1-trace-e3-official.json.161',\n",
       " '/mnt/8tb/csenrc/tc3/data/trace/extracted_json/ta1-trace-e3-official.json.203',\n",
       " '/mnt/8tb/csenrc/tc3/data/trace/extracted_json/ta1-trace-e3-official.json.118',\n",
       " '/mnt/8tb/csenrc/tc3/data/trace/extracted_json/ta1-trace-e3-official.json.8',\n",
       " '/mnt/8tb/csenrc/tc3/data/trace/extracted_json/ta1-trace-e3-official.json.162',\n",
       " '/mnt/8tb/csenrc/tc3/data/trace/extracted_json/ta1-trace-e3-official.json.52',\n",
       " '/mnt/8tb/csenrc/tc3/data/trace/extracted_json/ta1-trace-e3-official.json.24',\n",
       " '/mnt/8tb/csenrc/tc3/data/trace/extracted_json/ta1-trace-e3-official.json.173',\n",
       " '/mnt/8tb/csenrc/tc3/data/trace/extracted_json/ta1-trace-e3-official.json.6',\n",
       " '/mnt/8tb/csenrc/tc3/data/trace/extracted_json/ta1-trace-e3-official.json.81',\n",
       " '/mnt/8tb/csenrc/tc3/data/trace/extracted_json/ta1-trace-e3-official.json.4',\n",
       " '/mnt/8tb/csenrc/tc3/data/trace/extracted_json/ta1-trace-e3-official.json.122',\n",
       " '/mnt/8tb/csenrc/tc3/data/trace/extracted_json/ta1-trace-e3-official.json.76',\n",
       " '/mnt/8tb/csenrc/tc3/data/trace/extracted_json/ta1-trace-e3-official.json.84',\n",
       " '/mnt/8tb/csenrc/tc3/data/trace/extracted_json/ta1-trace-e3-official.json.153',\n",
       " '/mnt/8tb/csenrc/tc3/data/trace/extracted_json/ta1-trace-e3-official.json.198',\n",
       " '/mnt/8tb/csenrc/tc3/data/trace/extracted_json/ta1-trace-e3-official.json.164',\n",
       " '/mnt/8tb/csenrc/tc3/data/trace/extracted_json/ta1-trace-e3-official.json.185',\n",
       " '/mnt/8tb/csenrc/tc3/data/trace/extracted_json/ta1-trace-e3-official-1.json.3',\n",
       " '/mnt/8tb/csenrc/tc3/data/trace/extracted_json/ta1-trace-e3-official.json.170',\n",
       " '/mnt/8tb/csenrc/tc3/data/trace/extracted_json/ta1-trace-e3-official.json.109',\n",
       " '/mnt/8tb/csenrc/tc3/data/trace/extracted_json/ta1-trace-e3-official.json.42',\n",
       " '/mnt/8tb/csenrc/tc3/data/trace/extracted_json/ta1-trace-e3-official.json.44',\n",
       " '/mnt/8tb/csenrc/tc3/data/trace/extracted_json/ta1-trace-e3-official.json.115',\n",
       " '/mnt/8tb/csenrc/tc3/data/trace/extracted_json/ta1-trace-e3-official.json.125',\n",
       " '/mnt/8tb/csenrc/tc3/data/trace/extracted_json/ta1-trace-e3-official.json.156',\n",
       " '/mnt/8tb/csenrc/tc3/data/trace/extracted_json/ta1-trace-e3-official.json.146',\n",
       " '/mnt/8tb/csenrc/tc3/data/trace/extracted_json/ta1-trace-e3-official.json.184',\n",
       " '/mnt/8tb/csenrc/tc3/data/trace/extracted_json/ta1-trace-e3-official.json.166',\n",
       " '/mnt/8tb/csenrc/tc3/data/trace/extracted_json/ta1-trace-e3-official.json.140',\n",
       " '/mnt/8tb/csenrc/tc3/data/trace/extracted_json/ta1-trace-e3-official.json.148',\n",
       " '/mnt/8tb/csenrc/tc3/data/trace/extracted_json/ta1-trace-e3-official.json.64',\n",
       " '/mnt/8tb/csenrc/tc3/data/trace/extracted_json/ta1-trace-e3-official.json.7',\n",
       " '/mnt/8tb/csenrc/tc3/data/trace/extracted_json/ta1-trace-e3-official.json.86',\n",
       " '/mnt/8tb/csenrc/tc3/data/trace/extracted_json/ta1-trace-e3-official.json.129',\n",
       " '/mnt/8tb/csenrc/tc3/data/trace/extracted_json/ta1-trace-e3-official.json.56',\n",
       " '/mnt/8tb/csenrc/tc3/data/trace/extracted_json/ta1-trace-e3-official.json.102',\n",
       " '/mnt/8tb/csenrc/tc3/data/trace/extracted_json/ta1-trace-e3-official.json.55',\n",
       " '/mnt/8tb/csenrc/tc3/data/trace/extracted_json/ta1-trace-e3-official.json.16',\n",
       " '/mnt/8tb/csenrc/tc3/data/trace/extracted_json/ta1-trace-e3-official.json.49',\n",
       " '/mnt/8tb/csenrc/tc3/data/trace/extracted_json/ta1-trace-e3-official.json.37',\n",
       " '/mnt/8tb/csenrc/tc3/data/trace/extracted_json/ta1-trace-e3-official.json.113',\n",
       " '/mnt/8tb/csenrc/tc3/data/trace/extracted_json/ta1-trace-e3-official.json.71',\n",
       " '/mnt/8tb/csenrc/tc3/data/trace/extracted_json/ta1-trace-e3-official.json.200',\n",
       " '/mnt/8tb/csenrc/tc3/data/trace/extracted_json/ta1-trace-e3-official.json.133',\n",
       " '/mnt/8tb/csenrc/tc3/data/trace/extracted_json/ta1-trace-e3-official.json.126',\n",
       " '/mnt/8tb/csenrc/tc3/data/trace/extracted_json/ta1-trace-e3-official.json.144',\n",
       " '/mnt/8tb/csenrc/tc3/data/trace/extracted_json/ta1-trace-e3-official.json.149',\n",
       " '/mnt/8tb/csenrc/tc3/data/trace/extracted_json/ta1-trace-e3-official.json.14',\n",
       " '/mnt/8tb/csenrc/tc3/data/trace/extracted_json/ta1-trace-e3-official.json.183',\n",
       " '/mnt/8tb/csenrc/tc3/data/trace/extracted_json/ta1-trace-e3-official.json.31',\n",
       " '/mnt/8tb/csenrc/tc3/data/trace/extracted_json/ta1-trace-e3-official.json.79',\n",
       " '/mnt/8tb/csenrc/tc3/data/trace/extracted_json/ta1-trace-e3-official.json.138',\n",
       " '/mnt/8tb/csenrc/tc3/data/trace/extracted_json/ta1-trace-e3-official.json.175',\n",
       " '/mnt/8tb/csenrc/tc3/data/trace/extracted_json/ta1-trace-e3-official.json.17',\n",
       " '/mnt/8tb/csenrc/tc3/data/trace/extracted_json/ta1-trace-e3-official.json.158',\n",
       " '/mnt/8tb/csenrc/tc3/data/trace/extracted_json/ta1-trace-e3-official.json.165',\n",
       " '/mnt/8tb/csenrc/tc3/data/trace/extracted_json/ta1-trace-e3-official.json.10',\n",
       " '/mnt/8tb/csenrc/tc3/data/trace/extracted_json/ta1-trace-e3-official.json.48',\n",
       " '/mnt/8tb/csenrc/tc3/data/trace/extracted_json/ta1-trace-e3-official.json.177',\n",
       " '/mnt/8tb/csenrc/tc3/data/trace/extracted_json/ta1-trace-e3-official.json.87',\n",
       " '/mnt/8tb/csenrc/tc3/data/trace/extracted_json/ta1-trace-e3-official.json.152',\n",
       " '/mnt/8tb/csenrc/tc3/data/trace/extracted_json/ta1-trace-e3-official.json.3',\n",
       " '/mnt/8tb/csenrc/tc3/data/trace/extracted_json/ta1-trace-e3-official.json.124',\n",
       " '/mnt/8tb/csenrc/tc3/data/trace/extracted_json/ta1-trace-e3-official.json.45',\n",
       " '/mnt/8tb/csenrc/tc3/data/trace/extracted_json/ta1-trace-e3-official.json.179',\n",
       " '/mnt/8tb/csenrc/tc3/data/trace/extracted_json/ta1-trace-e3-official-1.json',\n",
       " '/mnt/8tb/csenrc/tc3/data/trace/extracted_json/ta1-trace-e3-official.json.89',\n",
       " '/mnt/8tb/csenrc/tc3/data/trace/extracted_json/ta1-trace-e3-official.json.83',\n",
       " '/mnt/8tb/csenrc/tc3/data/trace/extracted_json/ta1-trace-e3-official.json.193',\n",
       " '/mnt/8tb/csenrc/tc3/data/trace/extracted_json/ta1-trace-e3-official-1.json.5',\n",
       " '/mnt/8tb/csenrc/tc3/data/trace/extracted_json/ta1-trace-e3-official.json.36',\n",
       " '/mnt/8tb/csenrc/tc3/data/trace/extracted_json/ta1-trace-e3-official.json.130',\n",
       " '/mnt/8tb/csenrc/tc3/data/trace/extracted_json/ta1-trace-e3-official-1.json.6',\n",
       " '/mnt/8tb/csenrc/tc3/data/trace/extracted_json/ta1-trace-e3-official.json.160',\n",
       " '/mnt/8tb/csenrc/tc3/data/trace/extracted_json/ta1-trace-e3-official.json.188',\n",
       " '/mnt/8tb/csenrc/tc3/data/trace/extracted_json/ta1-trace-e3-official.json.99']"
      ]
     },
     "execution_count": 3,
     "metadata": {},
     "output_type": "execute_result"
    }
   ],
   "source": [
    "dir = '/mnt/8tb/csenrc/tc3/data/trace/extracted_json/'\n",
    "files = os.listdir('/mnt/8tb/csenrc/tc3/data/trace/extracted_json')\n",
    "files = [dir+x for x in files]\n",
    "files"
   ]
  },
  {
   "cell_type": "code",
   "execution_count": null,
   "metadata": {},
   "outputs": [],
   "source": []
  }
 ],
 "metadata": {
  "interpreter": {
   "hash": "a01f599b34edce01dd96621430605e3428cfca8a7f3f7e0aec5d26beeaa95b07"
  },
  "kernelspec": {
   "display_name": "Python 3.9.5 ('envphase2')",
   "language": "python",
   "name": "python3"
  },
  "language_info": {
   "codemirror_mode": {
    "name": "ipython",
    "version": 3
   },
   "file_extension": ".py",
   "mimetype": "text/x-python",
   "name": "python",
   "nbconvert_exporter": "python",
   "pygments_lexer": "ipython3",
   "version": "3.9.12"
  },
  "orig_nbformat": 4
 },
 "nbformat": 4,
 "nbformat_minor": 2
}
