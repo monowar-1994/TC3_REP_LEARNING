{
 "cells": [
  {
   "cell_type": "code",
   "execution_count": 1,
   "metadata": {},
   "outputs": [
    {
     "name": "stdout",
     "output_type": "stream",
     "text": [
      "2.4.1\n",
      "[PhysicalDevice(name='/physical_device:CPU:0', device_type='CPU'), PhysicalDevice(name='/physical_device:GPU:0', device_type='GPU')]\n"
     ]
    }
   ],
   "source": [
    "# Import all the necessary packages\n",
    "import os\n",
    "import numpy as np \n",
    "import tensorflow as tf\n",
    "import json\n",
    "import matplotlib.pyplot as plt \n",
    "import pandas as pd\n",
    "\n",
    "print(tf.__version__)\n",
    "print(tf.config.list_physical_devices())"
   ]
  },
  {
   "cell_type": "code",
   "execution_count": 2,
   "metadata": {},
   "outputs": [],
   "source": [
    "# import regarding database handles\n",
    "import db_classes as orm\n",
    "from sqlalchemy import create_engine\n",
    "from sqlalchemy.orm import sessionmaker"
   ]
  },
  {
   "cell_type": "code",
   "execution_count": 3,
   "metadata": {},
   "outputs": [],
   "source": [
    "import graph_construction as gc\n",
    "import random"
   ]
  },
  {
   "cell_type": "code",
   "execution_count": 4,
   "metadata": {},
   "outputs": [],
   "source": [
    "# File locations for specific files.\n",
    "graph_file_path = '/mnt/8tb/csenrc/representation_learning_codes/graph_file.json'\n",
    "index_file_path = '/mnt/8tb/csenrc/representation_learning_codes/index_file.json'\n",
    "# use the database connection URL if needed.\n",
    "connection_url = 'postgresql+psycopg2://csephase2:csephase@@localhost/darpa_tc3'"
   ]
  },
  {
   "cell_type": "code",
   "execution_count": 5,
   "metadata": {},
   "outputs": [
    {
     "name": "stdout",
     "output_type": "stream",
     "text": [
      "Number of subjects in the graph: 224146\n"
     ]
    }
   ],
   "source": [
    "# Let's load the graph first. \n",
    "\n",
    "provenance_graph = json.load(open(graph_file_path))\n",
    "print(\"Number of subjects in the graph: {}\".format(len(provenance_graph)))"
   ]
  },
  {
   "cell_type": "code",
   "execution_count": 6,
   "metadata": {},
   "outputs": [],
   "source": [
    "# Please note that the graph loading time is obnoxiously large. \n",
    "# Therefore, at this point, please refrain from doing anything that needs loading the graph from file multiple times.\n",
    "\n",
    "max_len = -1\n",
    "min_len = 1000000000000\n",
    "largest_subject_subgraph = -1\n",
    "smallest_subject_subgraph = -1\n",
    "count = 0\n",
    "small_graphs = []\n",
    "\n",
    "for subject in provenance_graph:\n",
    "    if len(provenance_graph[subject]['events']) > max_len:\n",
    "        max_len = len(provenance_graph[subject]['events'])\n",
    "        largest_subject_subgraph = subject\n",
    "    if len(provenance_graph[subject]['events']) < min_len:\n",
    "        min_len = len(provenance_graph[subject]['events'])\n",
    "        smallest_subject_subgraph = subject\n",
    "    if len(provenance_graph[subject]['events']) < 32:\n",
    "        count += 1\n",
    "        small_graphs.append(subject)  \n",
    "        "
   ]
  },
  {
   "cell_type": "code",
   "execution_count": 7,
   "metadata": {},
   "outputs": [
    {
     "name": "stdout",
     "output_type": "stream",
     "text": [
      "Currently the largest subgraph is rooted at subject 74188 has the size of: 3049408\n",
      "Currently the smallest subgraph is rooted at subject 4 has the size of: 1\n",
      "Currently number of small subgraph is 124874\n"
     ]
    }
   ],
   "source": [
    "print(\"Currently the largest subgraph is rooted at subject {} has the size of: {}\".format(largest_subject_subgraph, max_len))\n",
    "print(\"Currently the smallest subgraph is rooted at subject {} has the size of: {}\".format(smallest_subject_subgraph, min_len))\n",
    "print(\"Currently number of small subgraph is {}\".format(count))"
   ]
  },
  {
   "cell_type": "code",
   "execution_count": 8,
   "metadata": {},
   "outputs": [],
   "source": [
    "# Wow that is a lot of events for a node. \n",
    "# Makes me wonder what a histogram for this data will look like. \n",
    "# In other words, what ate the node densities in the graoh. \n",
    "# Let's try it out. \n",
    "\n",
    "lengths = [] # Simple list will do, we are not tracking, we just want to see the distribution. \n",
    "\n",
    "for subject in provenance_graph:\n",
    "    lengths.append(len(provenance_graph[subject]['events']))"
   ]
  },
  {
   "cell_type": "code",
   "execution_count": 9,
   "metadata": {},
   "outputs": [
    {
     "data": {
      "image/png": "[encoded data removed]",
      "text/plain": [
       "<Figure size 1000x500 with 1 Axes>"
      ]
     },
     "metadata": {},
     "output_type": "display_data"
    }
   ],
   "source": [
    "# Now, let's plot the histogram. \n",
    "n_bins = 25\n",
    "\n",
    "plt.figure(figsize=(10,5))\n",
    "# We can set the number of bins with the *bins* keyword argument.\n",
    "#plt.scatter(np.arange(len(lengths)),np.log(lengths), marker='.')\n",
    "plt.hist(np.log(lengths), bins=n_bins)\n",
    "plt.grid(True)\n",
    "plt.show()"
   ]
  },
  {
   "cell_type": "markdown",
   "metadata": {},
   "source": [
    "# Okay, that does not look great at all. \n",
    "A lot of nodes have more than 10^(3 to 6) number of events. Which means the timestamp difference varies wildly and plain normalization may not be an option anymore. Therefore, we resort to sinusoidal coding like the original BERT paper. \n",
    "# So, the question becomes how do we generate paths now. \n",
    "Well, here is another interesting situation. We can subsample the stream of events to generate the paths. But again, the question is now how do we encode the subject information in the path. "
   ]
  },
  {
   "cell_type": "code",
   "execution_count": 10,
   "metadata": {},
   "outputs": [
    {
     "name": "stdout",
     "output_type": "stream",
     "text": [
      "Max time delta: 270997933817167, max_sub_origin: 1522759935112293459, max_event_stamp = 1523030933046110626, max_sub = 10623\n",
      "Min time delta: -10001641, min_sub_origin: 1523218713175536589, min_event_stamp = 1523218713165534948, min_sub = 121235\n",
      "Negative count: 2819176, pct: 6.827477012164842\n"
     ]
    }
   ],
   "source": [
    "max_time_delta = 0\n",
    "max_sub_origin =  -1\n",
    "max_event_stamp = -1\n",
    "max_sub = -1\n",
    "\n",
    "min_time_delta = 100000000000000\n",
    "min_sub_origin =  -1\n",
    "min_event_stamp = -1\n",
    "min_sub = -1\n",
    "negative_count = 0\n",
    "total_count = 0\n",
    "\n",
    "for subject in provenance_graph:\n",
    "    subject_timestamp = provenance_graph[subject]['sub'][2]\n",
    "    event_list = provenance_graph[subject]['events']\n",
    "    total_count += len(event_list)\n",
    "    if subject_timestamp != 0:\n",
    "        for event in event_list:\n",
    "            if event[0][3] != 0:\n",
    "                time_delta = event[0][3] - subject_timestamp\n",
    "\n",
    "                if time_delta<=0:\n",
    "                    negative_count +=1 \n",
    "            \n",
    "                if time_delta > max_time_delta:    \n",
    "                    max_time_delta = time_delta\n",
    "                    max_sub_origin = subject_timestamp\n",
    "                    max_event_stamp = event[0][3]\n",
    "                    max_sub = subject\n",
    "\n",
    "                if time_delta < min_time_delta:\n",
    "                    min_time_delta = time_delta\n",
    "                    min_sub_origin = subject_timestamp\n",
    "                    min_event_stamp = event[0][3]\n",
    "                    min_sub = subject\n",
    "        \n",
    "print(\"Max time delta: {}, max_sub_origin: {}, max_event_stamp = {}, max_sub = {}\".format(max_time_delta, max_sub_origin, max_event_stamp, max_sub))\n",
    "print(\"Min time delta: {}, min_sub_origin: {}, min_event_stamp = {}, min_sub = {}\".format(min_time_delta, min_sub_origin, min_event_stamp, min_sub))\n",
    "print(\"Negative count: {}, pct: {}\".format(negative_count, (negative_count/total_count)*100))\n"
   ]
  },
  {
   "cell_type": "markdown",
   "metadata": {},
   "source": [
    "### Looks like 6.82% events are have negative time delta which is not possible for us to use. In this case, the ususal approach is to drop the data points. "
   ]
  },
  {
   "cell_type": "code",
   "execution_count": 11,
   "metadata": {},
   "outputs": [
    {
     "name": "stdout",
     "output_type": "stream",
     "text": [
      "Number of events kept: 38472446, number of events removed: 2819176, percentage: 6.827477012164841\n"
     ]
    }
   ],
   "source": [
    "cleaned_provenance_graph = dict() # Pruned graph object\n",
    "remove_count = 0 # Number of events that have been removed from the graph\n",
    "keep_count = 0 # Number of events that have been retained from the graph\n",
    "\n",
    "for subject in provenance_graph:\n",
    "\n",
    "    cleaned_provenance_graph[subject] = dict()\n",
    "    cleaned_provenance_graph[subject]['sub'] = provenance_graph[subject]['sub'] # Saving the subject identity.\n",
    "    \n",
    "    subject_timestamp = provenance_graph[subject]['sub'][2]\n",
    "    event_list = provenance_graph[subject]['events'] \n",
    "    temp_event_list = []\n",
    "    for event in event_list:\n",
    "        if event[0][3] != 0:\n",
    "            time_delta = event[0][3] - subject_timestamp\n",
    "            if time_delta>0:\n",
    "                temp_event_list.append(event)\n",
    "            else:\n",
    "                remove_count +=1\n",
    "        else:\n",
    "            remove_count+=1 \n",
    "\n",
    "    cleaned_provenance_graph[subject]['events'] = temp_event_list\n",
    "    keep_count += len(temp_event_list)\n",
    "    \n",
    "print(\"Number of events kept: {}, number of events removed: {}, percentage: {}\".format(keep_count, remove_count, ((100*remove_count)/(remove_count+keep_count) )))"
   ]
  },
  {
   "cell_type": "code",
   "execution_count": 12,
   "metadata": {},
   "outputs": [
    {
     "name": "stdout",
     "output_type": "stream",
     "text": [
      "Max time delta: 270997933817167, max_sub_origin: 1522759935112293459, max_event_stamp = 1523030933046110626, max_sub = 10623\n",
      "Min time delta: 1472570, min_sub_origin: 1523556159254718787, min_event_stamp = 1523556159256191357, min_sub = 200097\n",
      "Negative count: 0, pct: 0.0\n"
     ]
    }
   ],
   "source": [
    "# Running the same code block on the pruned provenance graph\n",
    "max_time_delta = 0\n",
    "max_sub_origin =  -1\n",
    "max_event_stamp = -1\n",
    "max_sub = -1\n",
    "\n",
    "min_time_delta = 100000000000000\n",
    "min_sub_origin =  -1\n",
    "min_event_stamp = -1\n",
    "min_sub = -1\n",
    "negative_count = 0\n",
    "total_count = 0\n",
    "\n",
    "for subject in cleaned_provenance_graph:\n",
    "    subject_timestamp = cleaned_provenance_graph[subject]['sub'][2]\n",
    "    event_list = cleaned_provenance_graph[subject]['events']\n",
    "    total_count += len(event_list)\n",
    "    if subject_timestamp != 0:\n",
    "        for event in event_list:\n",
    "            if event[0][3] != 0:\n",
    "                time_delta = event[0][3] - subject_timestamp\n",
    "\n",
    "                if time_delta<=0:\n",
    "                    negative_count +=1 \n",
    "            \n",
    "                if time_delta > max_time_delta:    \n",
    "                    max_time_delta = time_delta\n",
    "                    max_sub_origin = subject_timestamp\n",
    "                    max_event_stamp = event[0][3]\n",
    "                    max_sub = subject\n",
    "\n",
    "                if time_delta < min_time_delta:\n",
    "                    min_time_delta = time_delta\n",
    "                    min_sub_origin = subject_timestamp\n",
    "                    min_event_stamp = event[0][3]\n",
    "                    min_sub = subject\n",
    "        \n",
    "print(\"Max time delta: {}, max_sub_origin: {}, max_event_stamp = {}, max_sub = {}\".format(max_time_delta, max_sub_origin, max_event_stamp, max_sub))\n",
    "print(\"Min time delta: {}, min_sub_origin: {}, min_event_stamp = {}, min_sub = {}\".format(min_time_delta, min_sub_origin, min_event_stamp, min_sub))\n",
    "print(\"Negative count: {}, pct: {}\".format(negative_count, (negative_count/total_count)*100))\n"
   ]
  },
  {
   "cell_type": "code",
   "execution_count": 13,
   "metadata": {},
   "outputs": [
    {
     "name": "stdout",
     "output_type": "stream",
     "text": [
      "5.796340601824141e-15\n",
      "1.0\n"
     ]
    }
   ],
   "source": [
    "MAX_TIME_DELTA = 270997933817167\n",
    "NUMERATOR = np.pi * 0.5 * (1/MAX_TIME_DELTA)\n",
    "print(NUMERATOR)\n",
    "print(np.sin(NUMERATOR*MAX_TIME_DELTA))"
   ]
  },
  {
   "cell_type": "code",
   "execution_count": 14,
   "metadata": {},
   "outputs": [],
   "source": [
    "def get_random_sequence(subject_id, encoding = None, sequence_size = 31 , imaging = False):\n",
    "    \n",
    "    subject_start_time_stamp = cleaned_provenance_graph[subject_id]['sub'][2]\n",
    "    events = cleaned_provenance_graph[subject_id]['events']\n",
    "    sampled_events = None\n",
    "    \n",
    "    if len(events)>sequence_size:\n",
    "        sampled_events = random.sample(events, k=sequence_size)\n",
    "    else:\n",
    "        sampled_events = events\n",
    "\n",
    "    sampled_events = sorted(sampled_events, key=lambda x:x[0][3])\n",
    "\n",
    "    result_array = None\n",
    "    index = -1\n",
    "    \n",
    "    if imaging:\n",
    "        result_array = np.zeros((sequence_size*8)+8)\n",
    "        index = 8\n",
    "    else:\n",
    "        result_array = np.zeros((sequence_size*8)+2)\n",
    "        index = 2\n",
    "    \n",
    "    for event in sampled_events:\n",
    "        temp = np.zeros(8)\n",
    "\n",
    "        temp[0] = event[0][0] # Normalized event type\n",
    "        temp[1] = event[0][1] # Normalized predicate object 1 type\n",
    "        temp[2] = event[0][2] # Normalized predicate object 2 type\n",
    "        temp[3] = event[0][4] # Normalized event name\n",
    "\n",
    "        if event[1] is not None:\n",
    "            temp[4] = event[1][0] # Details of predicate object 1 if available\n",
    "            temp[5] = event[1][1] \n",
    "        if event[2] is not None:\n",
    "            temp[6] = event[2][0] # Details of predicate object 2 if available\n",
    "            temp[7] = event[2][1]\n",
    "        \n",
    "        \n",
    "        time_delta = event[0][3] - subject_start_time_stamp \n",
    "\n",
    "        if encoding == 'sine':\n",
    "            result_array[index:index+8] = temp * np.sin(NUMERATOR * time_delta)\n",
    "        elif encoding == 'cosine':\n",
    "            result_array[index:index+8] = temp * np.cos(NUMERATOR * time_delta)\n",
    "        elif encoding =='linear':\n",
    "            result_array[index:index+8] = temp * (time_delta/MAX_TIME_DELTA)\n",
    "        elif encoding is None:\n",
    "            result_array[index:index+8] = temp\n",
    "        \n",
    "        index+=8\n",
    "\n",
    "    result_array[0] = cleaned_provenance_graph[subject_id]['sub'][0]\n",
    "    result_array[1] = cleaned_provenance_graph[subject_id]['sub'][1]\n",
    "\n",
    "    return result_array"
   ]
  },
  {
   "cell_type": "code",
   "execution_count": 15,
   "metadata": {},
   "outputs": [
    {
     "data": {
      "text/plain": [
       "array([0.25      , 0.        , 0.        , 0.        , 0.        ,\n",
       "       0.        , 0.        , 0.        , 0.05598719, 0.12959997,\n",
       "       0.        , 0.16370523, 0.31103993, 0.        , 0.        ,\n",
       "       0.        , 0.19258808, 0.        , 0.        , 0.38756116,\n",
       "       0.        , 0.        , 0.        , 0.        , 0.22632588,\n",
       "       0.        , 0.        , 0.45545456, 0.        , 0.        ,\n",
       "       0.        , 0.        , 0.16093219, 0.30479581, 0.30479581,\n",
       "       0.10266806, 0.73150995, 0.        , 0.73150995, 0.        ,\n",
       "       0.16954529, 0.32110851, 0.32110851, 0.10816287, 0.77066043,\n",
       "       0.        , 0.77066043, 0.        , 0.27366664, 0.        ,\n",
       "       0.        , 0.55072234, 0.        , 0.        , 0.        ,\n",
       "       0.        , 0.27804726, 0.        , 0.        , 0.55953782,\n",
       "       0.        , 0.        , 0.        , 0.        , 0.28662183,\n",
       "       0.        , 0.        , 0.57679315, 0.        , 0.        ,\n",
       "       0.        , 0.        , 0.16306564, 0.37746676, 0.        ,\n",
       "       0.47680012, 0.90592023, 0.        , 0.        , 0.        ,\n",
       "       0.20557974, 0.38935557, 0.38935557, 0.13115135, 0.93445338,\n",
       "       0.        , 0.93445338, 0.        , 0.17762641, 0.41117225,\n",
       "       0.        , 0.51937548, 0.98681341, 0.        , 0.        ,\n",
       "       0.        , 0.33848096, 0.        , 0.        , 0.68115364,\n",
       "       0.        , 0.        , 0.        , 0.        , 0.17984094,\n",
       "       0.41629848, 0.        , 0.52585071, 0.99911635, 0.        ,\n",
       "       0.        , 0.        , 0.3379709 , 0.        , 0.        ,\n",
       "       0.6801272 , 0.        , 0.        , 0.        , 0.        ,\n",
       "       0.21848286, 0.41379329, 0.41379329, 0.139383  , 0.99310391,\n",
       "       0.        , 0.99310391, 0.        , 0.3359813 , 0.        ,\n",
       "       0.        , 0.67612337, 0.        , 0.        , 0.        ,\n",
       "       0.        , 0.33393772, 0.        , 0.        , 0.67201089,\n",
       "       0.        , 0.        , 0.        , 0.        , 0.16927242,\n",
       "       0.3918343 , 0.        , 0.49494859, 0.94040232, 0.        ,\n",
       "       0.        , 0.        , 0.31407962, 0.        , 0.        ,\n",
       "       0.63204877, 0.        , 0.        , 0.        , 0.        ,\n",
       "       0.1661874 , 0.38469305, 0.        , 0.48592807, 0.92326333,\n",
       "       0.        , 0.        , 0.        , 0.30591627, 0.        ,\n",
       "       0.        , 0.61562099, 0.        , 0.        , 0.        ,\n",
       "       0.        , 0.30224815, 0.        , 0.        , 0.60823932,\n",
       "       0.        , 0.        , 0.        , 0.        , 0.15560258,\n",
       "       0.36019117, 0.        , 0.45497832, 0.8644588 , 0.        ,\n",
       "       0.        , 0.        , 0.28824973, 0.        , 0.        ,\n",
       "       0.58006911, 0.        , 0.        , 0.        , 0.        ,\n",
       "       0.18332296, 0.34720257, 0.34720257, 0.11695245, 0.83328617,\n",
       "       0.        , 0.83328617, 0.        , 0.26500144, 0.        ,\n",
       "       0.        , 0.53328463, 0.        , 0.        , 0.        ,\n",
       "       0.        , 0.16333131, 0.30933961, 0.30933961, 0.1041986 ,\n",
       "       0.74241506, 0.        , 0.74241506, 0.        , 0.13301507,\n",
       "       0.30790526, 0.        , 0.38893296, 0.73897262, 0.        ,\n",
       "       0.        , 0.        , 0.12102736, 0.28015592, 0.        ,\n",
       "       0.35388116, 0.67237421, 0.        , 0.        , 0.        ,\n",
       "       0.11301944, 0.26161908, 0.        , 0.3304662 , 0.62788578,\n",
       "       0.        , 0.        , 0.        , 0.09983772, 0.23110584,\n",
       "       0.        , 0.29192317, 0.55465402, 0.        , 0.        ,\n",
       "       0.        ])"
      ]
     },
     "execution_count": 15,
     "metadata": {},
     "output_type": "execute_result"
    }
   ],
   "source": [
    "get_random_sequence('74188', encoding='sine', imaging=True)"
   ]
  },
  {
   "cell_type": "code",
   "execution_count": 16,
   "metadata": {},
   "outputs": [
    {
     "name": "stdout",
     "output_type": "stream",
     "text": [
      "224146\n"
     ]
    }
   ],
   "source": [
    "subject_list = list(cleaned_provenance_graph.keys())\n",
    "print(len(subject_list))\n",
    "random.shuffle(subject_list)"
   ]
  },
  {
   "cell_type": "code",
   "execution_count": 17,
   "metadata": {},
   "outputs": [],
   "source": [
    "def generator( datasource , encoding_scheme = None, batch_size = 32, sequence_size = 31):\n",
    "    while True:\n",
    "        x = np.zeros((batch_size, (sequence_size*8)+2))\n",
    "        y = np.zeros((batch_size, (sequence_size*8)+2))\n",
    "\n",
    "        subjects = random.sample(datasource, k=batch_size)\n",
    "\n",
    "        for i in range(batch_size):\n",
    "            x[i] = get_random_sequence(subjects[i], encoding=encoding_scheme ,sequence_size= sequence_size)\n",
    "            y[i] = x[i]\n",
    "\n",
    "        yield x,y"
   ]
  },
  {
   "cell_type": "code",
   "execution_count": 18,
   "metadata": {},
   "outputs": [],
   "source": [
    "def get_autoencoder(input_length):\n",
    "    input_layer = tf.keras.Input(shape=(input_length, ))\n",
    "    layer_0_down = tf.keras.layers.Dense(512, activation ='relu')(input_layer)\n",
    "    layer_1_down = tf.keras.layers.Dense(256, activation ='relu')(layer_0_down)\n",
    "    layer_2_down =  tf.keras.layers.Dense(128, activation ='relu')(layer_1_down)\n",
    "    layer_3_down = tf.keras.layers.Dense(64, activation ='relu')(layer_2_down)\n",
    "    bottleneck_layer = tf.keras.layers.Dense(32, activation ='relu')(layer_3_down)\n",
    "    layer_1_up = tf.keras.layers.Dense(64, activation ='relu')(bottleneck_layer)\n",
    "    layer_2_up = tf.keras.layers.Dense(128, activation ='relu')(layer_1_up) \n",
    "    layer_3_up = tf.keras.layers.Dense(256, activation ='relu')(layer_2_up)\n",
    "    layer_4_up = tf.keras.layers.Dense(512, activation ='relu')(layer_3_up)\n",
    "    output_layer = tf.keras.layers.Dense(input_length, activation ='relu')(layer_4_up)\n",
    "\n",
    "    autoencoder_model = tf.keras.Model(input_layer, output_layer)\n",
    "\n",
    "    return autoencoder_model"
   ]
  },
  {
   "cell_type": "code",
   "execution_count": 32,
   "metadata": {},
   "outputs": [],
   "source": [
    "tf.keras.backend.clear_session()"
   ]
  },
  {
   "cell_type": "code",
   "execution_count": 33,
   "metadata": {},
   "outputs": [
    {
     "name": "stdout",
     "output_type": "stream",
     "text": [
      "Model: \"model\"\n",
      "_________________________________________________________________\n",
      "Layer (type)                 Output Shape              Param #   \n",
      "=================================================================\n",
      "input_1 (InputLayer)         [(None, 506)]             0         \n",
      "_________________________________________________________________\n",
      "dense (Dense)                (None, 512)               259584    \n",
      "_________________________________________________________________\n",
      "dense_1 (Dense)              (None, 256)               131328    \n",
      "_________________________________________________________________\n",
      "dense_2 (Dense)              (None, 128)               32896     \n",
      "_________________________________________________________________\n",
      "dense_3 (Dense)              (None, 64)                8256      \n",
      "_________________________________________________________________\n",
      "dense_4 (Dense)              (None, 32)                2080      \n",
      "_________________________________________________________________\n",
      "dense_5 (Dense)              (None, 64)                2112      \n",
      "_________________________________________________________________\n",
      "dense_6 (Dense)              (None, 128)               8320      \n",
      "_________________________________________________________________\n",
      "dense_7 (Dense)              (None, 256)               33024     \n",
      "_________________________________________________________________\n",
      "dense_8 (Dense)              (None, 512)               131584    \n",
      "_________________________________________________________________\n",
      "dense_9 (Dense)              (None, 506)               259578    \n",
      "=================================================================\n",
      "Total params: 868,762\n",
      "Trainable params: 868,762\n",
      "Non-trainable params: 0\n",
      "_________________________________________________________________\n"
     ]
    }
   ],
   "source": [
    "seq_length = 63\n",
    "autoencoder = get_autoencoder(seq_length*8 + 2)\n",
    "autoencoder.summary()"
   ]
  },
  {
   "cell_type": "code",
   "execution_count": 34,
   "metadata": {},
   "outputs": [],
   "source": [
    "total_dataset_length = 224146\n",
    "\n",
    "training_length = 180000\n",
    "validation_length = 44146\n",
    "\n",
    "training_data = subject_list[:training_length]\n",
    "validation_data = subject_list[training_length:]\n",
    "\n",
    "train_seq_generator = generator(training_data, encoding_scheme='sine', batch_size=64, sequence_size=63)\n",
    "valid_seq_generator = generator(validation_data, encoding_scheme='sine', batch_size=64, sequence_size=63)"
   ]
  },
  {
   "cell_type": "code",
   "execution_count": 35,
   "metadata": {},
   "outputs": [],
   "source": [
    "autoencoder.compile(loss=tf.keras.losses.MSE, optimizer=tf.keras.optimizers.Adam(learning_rate=1e-04))"
   ]
  },
  {
   "cell_type": "code",
   "execution_count": 36,
   "metadata": {},
   "outputs": [
    {
     "name": "stderr",
     "output_type": "stream",
     "text": [
      "/home/monowar/anaconda3/envs/envphase2/lib/python3.9/site-packages/tensorflow/python/keras/engine/training.py:1844: UserWarning: `Model.fit_generator` is deprecated and will be removed in a future version. Please use `Model.fit`, which supports generators.\n",
      "  warnings.warn('`Model.fit_generator` is deprecated and '\n"
     ]
    },
    {
     "name": "stdout",
     "output_type": "stream",
     "text": [
      "Epoch 1/100\n",
      "1000/1000 [==============================] - 25s 25ms/step - loss: 252.7905 - val_loss: 2.7941e-04\n",
      "Epoch 2/100\n",
      "1000/1000 [==============================] - 24s 24ms/step - loss: 0.0090 - val_loss: 2.3170e-04\n",
      "Epoch 3/100\n",
      "1000/1000 [==============================] - 25s 25ms/step - loss: 0.3727 - val_loss: 3.2006e-04\n",
      "Epoch 4/100\n",
      "1000/1000 [==============================] - 24s 24ms/step - loss: 0.0231 - val_loss: 6.1956e-04\n",
      "Epoch 5/100\n",
      "1000/1000 [==============================] - 24s 24ms/step - loss: 0.0113 - val_loss: 2.9480e-04\n",
      "Epoch 6/100\n",
      "1000/1000 [==============================] - 23s 23ms/step - loss: 0.0133 - val_loss: 3.7435e-04\n",
      "Epoch 7/100\n",
      "1000/1000 [==============================] - 24s 24ms/step - loss: 0.0115 - val_loss: 1.9055e-04\n",
      "Epoch 8/100\n",
      "1000/1000 [==============================] - 24s 24ms/step - loss: 0.0029 - val_loss: 2.6042e-04\n",
      "Epoch 9/100\n",
      "1000/1000 [==============================] - 24s 24ms/step - loss: 0.5753 - val_loss: 2.2670e-04\n",
      "Epoch 10/100\n",
      "1000/1000 [==============================] - 24s 24ms/step - loss: 9.7671e-04 - val_loss: 3.1634e-04\n",
      "Epoch 11/100\n",
      "1000/1000 [==============================] - 24s 24ms/step - loss: 0.0688 - val_loss: 2.6941e-04\n",
      "Epoch 12/100\n",
      "1000/1000 [==============================] - 24s 24ms/step - loss: 0.0129 - val_loss: 2.7946e-04\n",
      "Epoch 13/100\n",
      "1000/1000 [==============================] - 23s 23ms/step - loss: 0.0023 - val_loss: 2.7005e-04\n",
      "Epoch 14/100\n",
      "1000/1000 [==============================] - 24s 24ms/step - loss: 5.2717 - val_loss: 3.0862e-04\n",
      "Epoch 15/100\n",
      "1000/1000 [==============================] - 23s 23ms/step - loss: 0.0060 - val_loss: 8.4645e-04\n",
      "Epoch 16/100\n",
      "1000/1000 [==============================] - 23s 23ms/step - loss: 0.0037 - val_loss: 5.3883e-04\n",
      "Epoch 17/100\n",
      "1000/1000 [==============================] - 23s 23ms/step - loss: 0.0013 - val_loss: 2.9203e-04\n",
      "Epoch 18/100\n",
      "1000/1000 [==============================] - 23s 23ms/step - loss: 0.0135 - val_loss: 4.1492e-04\n",
      "Epoch 19/100\n",
      "1000/1000 [==============================] - 24s 24ms/step - loss: 0.0044 - val_loss: 2.2975e-04\n",
      "Epoch 20/100\n",
      "1000/1000 [==============================] - 24s 24ms/step - loss: 0.2944 - val_loss: 1.6957e-04\n",
      "Epoch 21/100\n",
      "1000/1000 [==============================] - 24s 24ms/step - loss: 2.3239e-04 - val_loss: 2.6069e-04\n",
      "Epoch 22/100\n",
      "1000/1000 [==============================] - 23s 24ms/step - loss: 2.4717e-04 - val_loss: 3.5842e-04\n",
      "Epoch 23/100\n",
      "1000/1000 [==============================] - 22s 22ms/step - loss: 2.2781e-04 - val_loss: 3.6299e-04\n",
      "Epoch 24/100\n",
      "1000/1000 [==============================] - 23s 23ms/step - loss: 1.9805e-04 - val_loss: 1.9424e-04\n",
      "Epoch 25/100\n",
      "1000/1000 [==============================] - 23s 23ms/step - loss: 5.3653e-04 - val_loss: 3.1612e-04\n",
      "Epoch 26/100\n",
      "1000/1000 [==============================] - 23s 23ms/step - loss: 0.0207 - val_loss: 2.0768e-04\n",
      "Epoch 27/100\n",
      "1000/1000 [==============================] - 23s 23ms/step - loss: 0.0561 - val_loss: 4.6987e-04\n",
      "Epoch 28/100\n",
      "1000/1000 [==============================] - 25s 25ms/step - loss: 0.0015 - val_loss: 1.9047e-04\n",
      "Epoch 29/100\n",
      "1000/1000 [==============================] - 23s 24ms/step - loss: 0.0014 - val_loss: 3.0433e-04\n",
      "Epoch 30/100\n",
      "1000/1000 [==============================] - 24s 24ms/step - loss: 0.0023 - val_loss: 2.2939e-04\n",
      "Epoch 31/100\n",
      "1000/1000 [==============================] - 24s 24ms/step - loss: 5.1365e-04 - val_loss: 1.7691e-04\n",
      "Epoch 32/100\n",
      "1000/1000 [==============================] - 23s 23ms/step - loss: 0.0026 - val_loss: 2.7126e-04\n",
      "Epoch 33/100\n",
      "1000/1000 [==============================] - 23s 23ms/step - loss: 0.0014 - val_loss: 3.9728e-04\n",
      "Epoch 34/100\n",
      "1000/1000 [==============================] - 23s 23ms/step - loss: 6.0188e-04 - val_loss: 1.8553e-04\n",
      "Epoch 35/100\n",
      "1000/1000 [==============================] - 22s 22ms/step - loss: 0.0097 - val_loss: 0.0155\n",
      "Epoch 36/100\n",
      "1000/1000 [==============================] - 23s 23ms/step - loss: 0.0012 - val_loss: 1.3484e-04\n",
      "Epoch 37/100\n",
      "1000/1000 [==============================] - 24s 24ms/step - loss: 0.0181 - val_loss: 4.2937e-04\n",
      "Epoch 38/100\n",
      "1000/1000 [==============================] - 24s 24ms/step - loss: 0.1300 - val_loss: 1.4192e-04\n",
      "Epoch 39/100\n",
      "1000/1000 [==============================] - 24s 24ms/step - loss: 0.0361 - val_loss: 15.7937\n",
      "Epoch 40/100\n",
      "1000/1000 [==============================] - 24s 24ms/step - loss: 1.7834 - val_loss: 5.3337e-04\n",
      "Epoch 41/100\n",
      "1000/1000 [==============================] - 24s 24ms/step - loss: 3.2886e-04 - val_loss: 2.2063e-04\n",
      "Epoch 42/100\n",
      "1000/1000 [==============================] - 24s 24ms/step - loss: 2.2831e-04 - val_loss: 1.5855e-04\n",
      "Epoch 43/100\n",
      "1000/1000 [==============================] - 23s 23ms/step - loss: 2.7077e-04 - val_loss: 2.7892e-04\n",
      "Epoch 44/100\n",
      "1000/1000 [==============================] - 24s 24ms/step - loss: 5.4379e-04 - val_loss: 2.8961e-04\n",
      "Epoch 45/100\n",
      "1000/1000 [==============================] - 24s 24ms/step - loss: 0.0031 - val_loss: 1.8713e-04\n",
      "Epoch 46/100\n",
      "1000/1000 [==============================] - 24s 24ms/step - loss: 4.8229e-04 - val_loss: 0.0014\n",
      "Epoch 47/100\n",
      "1000/1000 [==============================] - 23s 23ms/step - loss: 0.5112 - val_loss: 2.0047e-04\n",
      "Epoch 48/100\n",
      "1000/1000 [==============================] - 24s 24ms/step - loss: 0.4438 - val_loss: 5.7830e-04\n",
      "Epoch 49/100\n",
      "1000/1000 [==============================] - 24s 24ms/step - loss: 0.4096 - val_loss: 0.0072\n",
      "Epoch 50/100\n",
      "1000/1000 [==============================] - 23s 23ms/step - loss: 0.0257 - val_loss: 1.8172e-04\n",
      "Epoch 51/100\n",
      "1000/1000 [==============================] - 23s 23ms/step - loss: 0.0888 - val_loss: 5.5866e-04\n",
      "Epoch 52/100\n",
      "1000/1000 [==============================] - 24s 24ms/step - loss: 4.9090e-04 - val_loss: 0.0065\n",
      "Epoch 53/100\n",
      "1000/1000 [==============================] - 23s 23ms/step - loss: 3.6333 - val_loss: 2.9383e-04\n",
      "Epoch 54/100\n",
      "1000/1000 [==============================] - 23s 23ms/step - loss: 0.0155 - val_loss: 0.0024\n",
      "Epoch 55/100\n",
      "1000/1000 [==============================] - 23s 23ms/step - loss: 0.3666 - val_loss: 3.4734e-04\n",
      "Epoch 56/100\n",
      "1000/1000 [==============================] - 22s 22ms/step - loss: 0.0248 - val_loss: 0.4493\n",
      "Epoch 57/100\n",
      "1000/1000 [==============================] - 23s 23ms/step - loss: 3.1302 - val_loss: 1.8502e-04\n",
      "Epoch 58/100\n",
      "1000/1000 [==============================] - 23s 23ms/step - loss: 2.4090e-04 - val_loss: 1.9350e-04\n",
      "Epoch 59/100\n",
      "1000/1000 [==============================] - 23s 23ms/step - loss: 2.3225e-04 - val_loss: 3.5822e-04\n",
      "Epoch 60/100\n",
      "1000/1000 [==============================] - 24s 24ms/step - loss: 2.3094e-04 - val_loss: 1.7780e-04\n",
      "Epoch 61/100\n",
      "1000/1000 [==============================] - 24s 24ms/step - loss: 4.3433e-04 - val_loss: 3.4556e-04\n",
      "Epoch 62/100\n",
      "1000/1000 [==============================] - 24s 24ms/step - loss: 0.0095 - val_loss: 3.9796e-04\n",
      "Epoch 63/100\n",
      "1000/1000 [==============================] - 23s 23ms/step - loss: 0.0157 - val_loss: 2.2407e-04\n",
      "Epoch 64/100\n",
      "1000/1000 [==============================] - 24s 24ms/step - loss: 0.0076 - val_loss: 5.2601e-04\n",
      "Epoch 65/100\n",
      "1000/1000 [==============================] - 23s 23ms/step - loss: 0.0019 - val_loss: 1.7952e-04\n",
      "Epoch 66/100\n",
      "1000/1000 [==============================] - 24s 24ms/step - loss: 0.0048 - val_loss: 0.0311\n",
      "Epoch 67/100\n",
      "1000/1000 [==============================] - 25s 25ms/step - loss: 0.1556 - val_loss: 2.7118e-04\n",
      "Epoch 68/100\n",
      "1000/1000 [==============================] - 24s 24ms/step - loss: 4.7402e-04 - val_loss: 1.5242e-04\n",
      "Epoch 69/100\n",
      "1000/1000 [==============================] - 24s 24ms/step - loss: 5.2308e-04 - val_loss: 0.0043\n",
      "Epoch 70/100\n",
      "1000/1000 [==============================] - 24s 24ms/step - loss: 6.8504e-04 - val_loss: 2.7163e-04\n",
      "Epoch 71/100\n",
      "1000/1000 [==============================] - 23s 23ms/step - loss: 0.0075 - val_loss: 1.5915e-04\n",
      "Epoch 72/100\n",
      "1000/1000 [==============================] - 24s 24ms/step - loss: 0.0334 - val_loss: 2.5591e-04\n",
      "Epoch 73/100\n",
      "1000/1000 [==============================] - 24s 24ms/step - loss: 0.1472 - val_loss: 189.9498\n",
      "Epoch 74/100\n",
      "1000/1000 [==============================] - 24s 24ms/step - loss: 1.8762 - val_loss: 3.1520e-04\n",
      "Epoch 75/100\n",
      "1000/1000 [==============================] - 23s 23ms/step - loss: 0.0023 - val_loss: 1.8953e-04\n",
      "Epoch 76/100\n",
      "1000/1000 [==============================] - 24s 24ms/step - loss: 0.0062 - val_loss: 2.4749e-04\n",
      "Epoch 77/100\n",
      "1000/1000 [==============================] - 23s 23ms/step - loss: 0.0761 - val_loss: 2.8152e-04\n",
      "Epoch 78/100\n",
      "1000/1000 [==============================] - 23s 23ms/step - loss: 0.0581 - val_loss: 0.0046\n",
      "Epoch 79/100\n",
      "1000/1000 [==============================] - 23s 23ms/step - loss: 5.5039e-04 - val_loss: 1.8968e-04\n",
      "Epoch 80/100\n",
      "1000/1000 [==============================] - 23s 23ms/step - loss: 3.9111e-04 - val_loss: 3.8157e-04\n",
      "Epoch 81/100\n",
      "1000/1000 [==============================] - 23s 23ms/step - loss: 0.0342 - val_loss: 1.9797e-04\n",
      "Epoch 82/100\n",
      "1000/1000 [==============================] - 23s 23ms/step - loss: 0.0639 - val_loss: 1.3200\n",
      "Epoch 83/100\n",
      "1000/1000 [==============================] - 23s 23ms/step - loss: 0.0389 - val_loss: 1.8880e-04\n",
      "Epoch 84/100\n",
      "1000/1000 [==============================] - 24s 24ms/step - loss: 3.2355e-04 - val_loss: 1.6644e-04\n",
      "Epoch 85/100\n",
      "1000/1000 [==============================] - 24s 24ms/step - loss: 4.2504e-04 - val_loss: 1.6962e-04\n",
      "Epoch 86/100\n",
      "1000/1000 [==============================] - 23s 23ms/step - loss: 2.4761e-04 - val_loss: 2.3692e-04\n",
      "Epoch 87/100\n",
      "1000/1000 [==============================] - 23s 23ms/step - loss: 0.3458 - val_loss: 1.5944e-04\n",
      "Epoch 88/100\n",
      "1000/1000 [==============================] - 23s 23ms/step - loss: 0.0039 - val_loss: 0.0019\n",
      "Epoch 89/100\n",
      "1000/1000 [==============================] - 24s 24ms/step - loss: 0.0132 - val_loss: 3.0359e-04\n",
      "Epoch 90/100\n",
      "1000/1000 [==============================] - 23s 23ms/step - loss: 0.0183 - val_loss: 1.8813e-04\n",
      "Epoch 91/100\n",
      "1000/1000 [==============================] - 24s 24ms/step - loss: 0.0083 - val_loss: 1.5266e-04\n",
      "Epoch 92/100\n",
      "1000/1000 [==============================] - 23s 23ms/step - loss: 2.5280e-04 - val_loss: 1.8212e-04\n",
      "Epoch 93/100\n",
      "1000/1000 [==============================] - 23s 23ms/step - loss: 2.3820e-04 - val_loss: 2.3601e-04\n",
      "Epoch 94/100\n",
      "1000/1000 [==============================] - 24s 24ms/step - loss: 0.0576 - val_loss: 0.0254\n",
      "Epoch 95/100\n",
      "1000/1000 [==============================] - 23s 23ms/step - loss: 0.5864 - val_loss: 8.2442e-04\n",
      "Epoch 96/100\n",
      "1000/1000 [==============================] - 23s 23ms/step - loss: 1.2304 - val_loss: 0.0019\n",
      "Epoch 97/100\n",
      "1000/1000 [==============================] - 23s 23ms/step - loss: 0.5124 - val_loss: 0.0573\n",
      "Epoch 98/100\n",
      "1000/1000 [==============================] - 23s 23ms/step - loss: 3.2538 - val_loss: 2.5514e-04\n",
      "Epoch 99/100\n",
      "1000/1000 [==============================] - 24s 24ms/step - loss: 0.0257 - val_loss: 0.0049\n",
      "Epoch 100/100\n",
      "1000/1000 [==============================] - 23s 23ms/step - loss: 0.0435 - val_loss: 2.7624e-04\n"
     ]
    }
   ],
   "source": [
    "history = autoencoder.fit_generator(train_seq_generator, steps_per_epoch=1000, epochs=100, validation_data = valid_seq_generator, validation_steps=50)"
   ]
  },
  {
   "cell_type": "code",
   "execution_count": 37,
   "metadata": {},
   "outputs": [],
   "source": [
    "training_loss = history.history['loss'][:]\n",
    "val_los = history.history['val_loss'][:]"
   ]
  },
  {
   "cell_type": "code",
   "execution_count": 40,
   "metadata": {},
   "outputs": [
    {
     "data": {
      "image/png": "[encoded data removed]",
      "text/plain": [
       "<Figure size 1000x400 with 1 Axes>"
      ]
     },
     "metadata": {},
     "output_type": "display_data"
    }
   ],
   "source": [
    "plt.figure(figsize=(10,4))\n",
    "plt.grid()\n",
    "plt.plot(np.log(training_loss))\n",
    "plt.plot(np.log(val_los))\n",
    "\n",
    "plt.show()"
   ]
  },
  {
   "cell_type": "markdown",
   "metadata": {},
   "source": [
    "## Okay , that didn't work out well. We can make it a convNet based autoencoder and see what is up. If it doesn't work, then we got a problem"
   ]
  },
  {
   "cell_type": "code",
   "execution_count": 55,
   "metadata": {},
   "outputs": [],
   "source": [
    "def image_generator(datasource , encoding_scheme = None, batch_size = 32, sequence_size = 31):\n",
    "    while True:\n",
    "        x = np.zeros((batch_size, (sequence_size*8)+8))\n",
    "        subjects = random.sample(datasource, k=batch_size)\n",
    "        for i in range(batch_size):\n",
    "            x[i] = get_random_sequence(subjects[i], encoding=encoding_scheme ,sequence_size= sequence_size, imaging=True)\n",
    "\n",
    "        target = np.reshape(x, (batch_size, (sequence_size+1),8))\n",
    "        target[:,0,2] /=65535\n",
    "\n",
    "        yield target, target "
   ]
  },
  {
   "cell_type": "code",
   "execution_count": 84,
   "metadata": {},
   "outputs": [],
   "source": [
    "def get_conv_autoencoder(sequence_size):\n",
    "    # Encoder\n",
    "    input_layer = tf.keras.layers.Input(shape=((sequence_size+1),8,1)) \n",
    "    feature_extractor = tf.keras.layers.Conv2D(256, (1,8), activation='relu', padding='same')(input_layer) # out: (seq_size, 1 , 256) \n",
    "    pooling1 = tf.keras.layers.MaxPooling2D((2,1), padding= 'same')(feature_extractor) # out : (seq_size/2, 1, 256)\n",
    "    conv_0_down = tf.keras.layers.Conv2D(128, (4,1), activation='relu', padding='same')(pooling1) # out: (seq_size/2 - 3, 1 , 128)\n",
    "    pooling2 = tf.keras.layers.MaxPooling2D((2,1), padding= 'same')(conv_0_down) # out: ((seq_size/2 - 3)/2, 1 , 128)\n",
    "    #Decoder\n",
    "    conv_0_up = tf.keras.layers.Conv2DTranspose(128, (4,1), strides=(2,1), activation='relu', padding='same', output_padding=(1,0))(pooling2)\n",
    "    conv_1_up = tf.keras.layers.Conv2DTranspose(256, (2,8), strides=(2,1), activation='relu', padding='valid', output_padding=(0,0))(conv_0_up)\n",
    "    output_layer = tf.keras.layers.Conv2D(1, (1,8), activation = 'relu', padding = 'valid')(conv_1_up)\n",
    "\n",
    "    conv_autoencoder = tf.keras.Model(input_layer, output_layer)\n",
    "\n",
    "    return conv_autoencoder"
   ]
  },
  {
   "cell_type": "code",
   "execution_count": null,
   "metadata": {},
   "outputs": [],
   "source": [
    "def get_conv_autoencoder_no_pooling(sequence_size):\n",
    "    input_layer = tf.keras.layers.Input(shape=((sequence_size+1),8,1)) \n",
    "    feature_extractor = tf.keras.layers.Conv2D(256, (1,8), activation='relu', padding='same')(input_layer) # out: (seq_size, 1 , 256)\n",
    "     "
   ]
  },
  {
   "cell_type": "code",
   "execution_count": 90,
   "metadata": {},
   "outputs": [],
   "source": [
    "tf.keras.backend.clear_session()"
   ]
  },
  {
   "cell_type": "code",
   "execution_count": 91,
   "metadata": {},
   "outputs": [
    {
     "name": "stdout",
     "output_type": "stream",
     "text": [
      "Model: \"model\"\n",
      "_________________________________________________________________\n",
      "Layer (type)                 Output Shape              Param #   \n",
      "=================================================================\n",
      "input_1 (InputLayer)         [(None, 70, 8, 1)]        0         \n",
      "_________________________________________________________________\n",
      "conv2d (Conv2D)              (None, 70, 8, 256)        2304      \n",
      "_________________________________________________________________\n",
      "max_pooling2d (MaxPooling2D) (None, 35, 8, 256)        0         \n",
      "_________________________________________________________________\n",
      "conv2d_1 (Conv2D)            (None, 35, 8, 128)        131200    \n",
      "_________________________________________________________________\n",
      "max_pooling2d_1 (MaxPooling2 (None, 18, 8, 128)        0         \n",
      "_________________________________________________________________\n",
      "conv2d_transpose (Conv2DTran (None, 35, 8, 128)        65664     \n",
      "_________________________________________________________________\n",
      "conv2d_transpose_1 (Conv2DTr (None, 70, 15, 256)       524544    \n",
      "_________________________________________________________________\n",
      "conv2d_2 (Conv2D)            (None, 70, 8, 1)          2049      \n",
      "=================================================================\n",
      "Total params: 725,761\n",
      "Trainable params: 725,761\n",
      "Non-trainable params: 0\n",
      "_________________________________________________________________\n"
     ]
    }
   ],
   "source": [
    "conv_based_autoencoder = get_conv_autoencoder(69)\n",
    "conv_based_autoencoder.summary()"
   ]
  },
  {
   "cell_type": "code",
   "execution_count": 79,
   "metadata": {},
   "outputs": [
    {
     "name": "stdout",
     "output_type": "stream",
     "text": [
      "Default GPU Device:/device:GPU:0\n"
     ]
    }
   ],
   "source": [
    "if tf.test.gpu_device_name(): \n",
    "    print('Default GPU Device:{}'.format(tf.test.gpu_device_name()))\n",
    "else:\n",
    "   print(\"Please install GPU version of TF\")"
   ]
  },
  {
   "cell_type": "code",
   "execution_count": 80,
   "metadata": {},
   "outputs": [],
   "source": [
    "def SSIMLoss(y_true, y_pred):\n",
    "    return 1 - tf.reduce_mean(tf.image.ssim(y_true, y_pred, 2.0))"
   ]
  },
  {
   "cell_type": "code",
   "execution_count": 92,
   "metadata": {},
   "outputs": [],
   "source": [
    "total_dataset_length = 224146\n",
    "\n",
    "training_length = 180000\n",
    "validation_length = 44146\n",
    "\n",
    "training_data = subject_list[:training_length]\n",
    "validation_data = subject_list[training_length:]\n",
    "\n",
    "img_train_seq_generator = image_generator(training_data, encoding_scheme=None, batch_size=32, sequence_size=69)\n",
    "img_valid_seq_generator = image_generator(validation_data, encoding_scheme=None, batch_size=32, sequence_size=69)"
   ]
  },
  {
   "cell_type": "code",
   "execution_count": 93,
   "metadata": {},
   "outputs": [],
   "source": [
    "conv_based_autoencoder.compile(loss=SSIMLoss, optimizer=tf.keras.optimizers.Adam(learning_rate=5e-04))"
   ]
  },
  {
   "cell_type": "code",
   "execution_count": 94,
   "metadata": {},
   "outputs": [
    {
     "name": "stderr",
     "output_type": "stream",
     "text": [
      "/home/monowar/anaconda3/envs/envphase2/lib/python3.9/site-packages/tensorflow/python/keras/engine/training.py:1844: UserWarning: `Model.fit_generator` is deprecated and will be removed in a future version. Please use `Model.fit`, which supports generators.\n",
      "  warnings.warn('`Model.fit_generator` is deprecated and '\n"
     ]
    },
    {
     "name": "stdout",
     "output_type": "stream",
     "text": [
      "Epoch 1/20\n",
      "1000/1000 [==============================] - 38s 37ms/step - loss: 0.1817 - val_loss: 0.0993\n",
      "Epoch 2/20\n",
      "1000/1000 [==============================] - 37s 37ms/step - loss: 0.0984 - val_loss: 0.0957\n",
      "Epoch 3/20\n",
      "1000/1000 [==============================] - 37s 37ms/step - loss: 0.0944 - val_loss: 0.0949\n",
      "Epoch 4/20\n",
      "1000/1000 [==============================] - 37s 37ms/step - loss: 0.0930 - val_loss: 0.0925\n",
      "Epoch 5/20\n",
      "1000/1000 [==============================] - 37s 37ms/step - loss: 0.0931 - val_loss: 0.0928\n",
      "Epoch 6/20\n",
      "1000/1000 [==============================] - 37s 37ms/step - loss: 0.0926 - val_loss: 0.0931\n",
      "Epoch 7/20\n",
      "1000/1000 [==============================] - 37s 37ms/step - loss: 0.0910 - val_loss: 0.0911\n",
      "Epoch 8/20\n",
      "1000/1000 [==============================] - 37s 37ms/step - loss: 0.0915 - val_loss: 0.0956\n",
      "Epoch 9/20\n",
      "1000/1000 [==============================] - 37s 37ms/step - loss: 0.0912 - val_loss: 0.0930\n",
      "Epoch 10/20\n",
      "1000/1000 [==============================] - 37s 37ms/step - loss: 0.0902 - val_loss: 0.0931\n",
      "Epoch 11/20\n",
      "1000/1000 [==============================] - 37s 37ms/step - loss: 0.0912 - val_loss: 0.0903\n",
      "Epoch 12/20\n",
      "1000/1000 [==============================] - 37s 37ms/step - loss: 0.0897 - val_loss: 0.0913\n",
      "Epoch 13/20\n",
      "1000/1000 [==============================] - 37s 37ms/step - loss: 0.0903 - val_loss: 0.0871\n",
      "Epoch 14/20\n",
      "1000/1000 [==============================] - 37s 37ms/step - loss: 0.0885 - val_loss: 0.0917\n",
      "Epoch 15/20\n",
      "1000/1000 [==============================] - 37s 37ms/step - loss: 0.0918 - val_loss: 0.0897\n",
      "Epoch 16/20\n",
      "1000/1000 [==============================] - 37s 37ms/step - loss: 0.0907 - val_loss: 0.0913\n",
      "Epoch 17/20\n",
      "1000/1000 [==============================] - 37s 37ms/step - loss: 0.0905 - val_loss: 0.0902\n",
      "Epoch 18/20\n",
      "1000/1000 [==============================] - 37s 37ms/step - loss: 0.0909 - val_loss: 0.0920\n",
      "Epoch 19/20\n",
      "1000/1000 [==============================] - 37s 37ms/step - loss: 0.0915 - val_loss: 0.0912\n",
      "Epoch 20/20\n",
      "1000/1000 [==============================] - 37s 37ms/step - loss: 0.0906 - val_loss: 0.0887\n"
     ]
    }
   ],
   "source": [
    "history = conv_based_autoencoder.fit_generator(img_train_seq_generator, steps_per_epoch=1000, epochs=20, validation_data = img_valid_seq_generator, validation_steps=50)"
   ]
  },
  {
   "cell_type": "code",
   "execution_count": 96,
   "metadata": {},
   "outputs": [
    {
     "data": {
      "image/png": "[encoded data removed]",
      "text/plain": [
       "<Figure size 1000x400 with 1 Axes>"
      ]
     },
     "metadata": {},
     "output_type": "display_data"
    }
   ],
   "source": [
    "training_loss = history.history['loss'][:]\n",
    "val_los = history.history['val_loss'][:]\n",
    "\n",
    "plt.figure(figsize=(10,4))\n",
    "plt.grid()\n",
    "plt.plot((training_loss))\n",
    "plt.plot((val_los))\n",
    "\n",
    "plt.show()"
   ]
  },
  {
   "cell_type": "code",
   "execution_count": null,
   "metadata": {},
   "outputs": [],
   "source": []
  }
 ],
 "metadata": {
  "interpreter": {
   "hash": "a01f599b34edce01dd96621430605e3428cfca8a7f3f7e0aec5d26beeaa95b07"
  },
  "kernelspec": {
   "display_name": "Python 3.9.5 ('envphase2')",
   "language": "python",
   "name": "python3"
  },
  "language_info": {
   "codemirror_mode": {
    "name": "ipython",
    "version": 3
   },
   "file_extension": ".py",
   "mimetype": "text/x-python",
   "name": "python",
   "nbconvert_exporter": "python",
   "pygments_lexer": "ipython3",
   "version": "3.9.5"
  },
  "orig_nbformat": 4
 },
 "nbformat": 4,
 "nbformat_minor": 2
}
